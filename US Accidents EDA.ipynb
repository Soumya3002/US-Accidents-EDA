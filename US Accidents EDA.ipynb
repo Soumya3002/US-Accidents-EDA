{
 "cells": [
  {
   "cell_type": "markdown",
   "id": "75c683fd",
   "metadata": {},
   "source": [
    "# US Accidents Exploratory Data Analysis"
   ]
  },
  {
   "cell_type": "markdown",
   "id": "9ae1ed30",
   "metadata": {},
   "source": [
    "The dataset is extracted from Kaggle. It provides information about accidents so that inferences can be helpful to prevent accidents."
   ]
  },
  {
   "cell_type": "markdown",
   "id": "f68257f7",
   "metadata": {},
   "source": [
    "## Loading the dataset"
   ]
  },
  {
   "cell_type": "code",
   "execution_count": 47,
   "id": "6834034c",
   "metadata": {},
   "outputs": [],
   "source": [
    "import pandas as pd\n",
    "import matplotlib.pyplot as plt\n",
    "import seaborn as sns"
   ]
  },
  {
   "cell_type": "code",
   "execution_count": 4,
   "id": "0811b9b7",
   "metadata": {},
   "outputs": [
    {
     "data": {
      "text/html": [
       "<div>\n",
       "<style scoped>\n",
       "    .dataframe tbody tr th:only-of-type {\n",
       "        vertical-align: middle;\n",
       "    }\n",
       "\n",
       "    .dataframe tbody tr th {\n",
       "        vertical-align: top;\n",
       "    }\n",
       "\n",
       "    .dataframe thead th {\n",
       "        text-align: right;\n",
       "    }\n",
       "</style>\n",
       "<table border=\"1\" class=\"dataframe\">\n",
       "  <thead>\n",
       "    <tr style=\"text-align: right;\">\n",
       "      <th></th>\n",
       "      <th>ID</th>\n",
       "      <th>Source</th>\n",
       "      <th>Severity</th>\n",
       "      <th>Start_Time</th>\n",
       "      <th>End_Time</th>\n",
       "      <th>Start_Lat</th>\n",
       "      <th>Start_Lng</th>\n",
       "      <th>End_Lat</th>\n",
       "      <th>End_Lng</th>\n",
       "      <th>Distance(mi)</th>\n",
       "      <th>...</th>\n",
       "      <th>Roundabout</th>\n",
       "      <th>Station</th>\n",
       "      <th>Stop</th>\n",
       "      <th>Traffic_Calming</th>\n",
       "      <th>Traffic_Signal</th>\n",
       "      <th>Turning_Loop</th>\n",
       "      <th>Sunrise_Sunset</th>\n",
       "      <th>Civil_Twilight</th>\n",
       "      <th>Nautical_Twilight</th>\n",
       "      <th>Astronomical_Twilight</th>\n",
       "    </tr>\n",
       "  </thead>\n",
       "  <tbody>\n",
       "    <tr>\n",
       "      <th>0</th>\n",
       "      <td>A-1</td>\n",
       "      <td>Source2</td>\n",
       "      <td>3</td>\n",
       "      <td>2016-02-08 05:46:00</td>\n",
       "      <td>2016-02-08 11:00:00</td>\n",
       "      <td>39.865147</td>\n",
       "      <td>-84.058723</td>\n",
       "      <td>NaN</td>\n",
       "      <td>NaN</td>\n",
       "      <td>0.010</td>\n",
       "      <td>...</td>\n",
       "      <td>False</td>\n",
       "      <td>False</td>\n",
       "      <td>False</td>\n",
       "      <td>False</td>\n",
       "      <td>False</td>\n",
       "      <td>False</td>\n",
       "      <td>Night</td>\n",
       "      <td>Night</td>\n",
       "      <td>Night</td>\n",
       "      <td>Night</td>\n",
       "    </tr>\n",
       "    <tr>\n",
       "      <th>1</th>\n",
       "      <td>A-2</td>\n",
       "      <td>Source2</td>\n",
       "      <td>2</td>\n",
       "      <td>2016-02-08 06:07:59</td>\n",
       "      <td>2016-02-08 06:37:59</td>\n",
       "      <td>39.928059</td>\n",
       "      <td>-82.831184</td>\n",
       "      <td>NaN</td>\n",
       "      <td>NaN</td>\n",
       "      <td>0.010</td>\n",
       "      <td>...</td>\n",
       "      <td>False</td>\n",
       "      <td>False</td>\n",
       "      <td>False</td>\n",
       "      <td>False</td>\n",
       "      <td>False</td>\n",
       "      <td>False</td>\n",
       "      <td>Night</td>\n",
       "      <td>Night</td>\n",
       "      <td>Night</td>\n",
       "      <td>Day</td>\n",
       "    </tr>\n",
       "    <tr>\n",
       "      <th>2</th>\n",
       "      <td>A-3</td>\n",
       "      <td>Source2</td>\n",
       "      <td>2</td>\n",
       "      <td>2016-02-08 06:49:27</td>\n",
       "      <td>2016-02-08 07:19:27</td>\n",
       "      <td>39.063148</td>\n",
       "      <td>-84.032608</td>\n",
       "      <td>NaN</td>\n",
       "      <td>NaN</td>\n",
       "      <td>0.010</td>\n",
       "      <td>...</td>\n",
       "      <td>False</td>\n",
       "      <td>False</td>\n",
       "      <td>False</td>\n",
       "      <td>False</td>\n",
       "      <td>True</td>\n",
       "      <td>False</td>\n",
       "      <td>Night</td>\n",
       "      <td>Night</td>\n",
       "      <td>Day</td>\n",
       "      <td>Day</td>\n",
       "    </tr>\n",
       "    <tr>\n",
       "      <th>3</th>\n",
       "      <td>A-4</td>\n",
       "      <td>Source2</td>\n",
       "      <td>3</td>\n",
       "      <td>2016-02-08 07:23:34</td>\n",
       "      <td>2016-02-08 07:53:34</td>\n",
       "      <td>39.747753</td>\n",
       "      <td>-84.205582</td>\n",
       "      <td>NaN</td>\n",
       "      <td>NaN</td>\n",
       "      <td>0.010</td>\n",
       "      <td>...</td>\n",
       "      <td>False</td>\n",
       "      <td>False</td>\n",
       "      <td>False</td>\n",
       "      <td>False</td>\n",
       "      <td>False</td>\n",
       "      <td>False</td>\n",
       "      <td>Night</td>\n",
       "      <td>Day</td>\n",
       "      <td>Day</td>\n",
       "      <td>Day</td>\n",
       "    </tr>\n",
       "    <tr>\n",
       "      <th>4</th>\n",
       "      <td>A-5</td>\n",
       "      <td>Source2</td>\n",
       "      <td>2</td>\n",
       "      <td>2016-02-08 07:39:07</td>\n",
       "      <td>2016-02-08 08:09:07</td>\n",
       "      <td>39.627781</td>\n",
       "      <td>-84.188354</td>\n",
       "      <td>NaN</td>\n",
       "      <td>NaN</td>\n",
       "      <td>0.010</td>\n",
       "      <td>...</td>\n",
       "      <td>False</td>\n",
       "      <td>False</td>\n",
       "      <td>False</td>\n",
       "      <td>False</td>\n",
       "      <td>True</td>\n",
       "      <td>False</td>\n",
       "      <td>Day</td>\n",
       "      <td>Day</td>\n",
       "      <td>Day</td>\n",
       "      <td>Day</td>\n",
       "    </tr>\n",
       "    <tr>\n",
       "      <th>...</th>\n",
       "      <td>...</td>\n",
       "      <td>...</td>\n",
       "      <td>...</td>\n",
       "      <td>...</td>\n",
       "      <td>...</td>\n",
       "      <td>...</td>\n",
       "      <td>...</td>\n",
       "      <td>...</td>\n",
       "      <td>...</td>\n",
       "      <td>...</td>\n",
       "      <td>...</td>\n",
       "      <td>...</td>\n",
       "      <td>...</td>\n",
       "      <td>...</td>\n",
       "      <td>...</td>\n",
       "      <td>...</td>\n",
       "      <td>...</td>\n",
       "      <td>...</td>\n",
       "      <td>...</td>\n",
       "      <td>...</td>\n",
       "      <td>...</td>\n",
       "    </tr>\n",
       "    <tr>\n",
       "      <th>7728389</th>\n",
       "      <td>A-7777757</td>\n",
       "      <td>Source1</td>\n",
       "      <td>2</td>\n",
       "      <td>2019-08-23 18:03:25</td>\n",
       "      <td>2019-08-23 18:32:01</td>\n",
       "      <td>34.002480</td>\n",
       "      <td>-117.379360</td>\n",
       "      <td>33.99888</td>\n",
       "      <td>-117.37094</td>\n",
       "      <td>0.543</td>\n",
       "      <td>...</td>\n",
       "      <td>False</td>\n",
       "      <td>False</td>\n",
       "      <td>False</td>\n",
       "      <td>False</td>\n",
       "      <td>False</td>\n",
       "      <td>False</td>\n",
       "      <td>Day</td>\n",
       "      <td>Day</td>\n",
       "      <td>Day</td>\n",
       "      <td>Day</td>\n",
       "    </tr>\n",
       "    <tr>\n",
       "      <th>7728390</th>\n",
       "      <td>A-7777758</td>\n",
       "      <td>Source1</td>\n",
       "      <td>2</td>\n",
       "      <td>2019-08-23 19:11:30</td>\n",
       "      <td>2019-08-23 19:38:23</td>\n",
       "      <td>32.766960</td>\n",
       "      <td>-117.148060</td>\n",
       "      <td>32.76555</td>\n",
       "      <td>-117.15363</td>\n",
       "      <td>0.338</td>\n",
       "      <td>...</td>\n",
       "      <td>False</td>\n",
       "      <td>False</td>\n",
       "      <td>False</td>\n",
       "      <td>False</td>\n",
       "      <td>False</td>\n",
       "      <td>False</td>\n",
       "      <td>Day</td>\n",
       "      <td>Day</td>\n",
       "      <td>Day</td>\n",
       "      <td>Day</td>\n",
       "    </tr>\n",
       "    <tr>\n",
       "      <th>7728391</th>\n",
       "      <td>A-7777759</td>\n",
       "      <td>Source1</td>\n",
       "      <td>2</td>\n",
       "      <td>2019-08-23 19:00:21</td>\n",
       "      <td>2019-08-23 19:28:49</td>\n",
       "      <td>33.775450</td>\n",
       "      <td>-117.847790</td>\n",
       "      <td>33.77740</td>\n",
       "      <td>-117.85727</td>\n",
       "      <td>0.561</td>\n",
       "      <td>...</td>\n",
       "      <td>False</td>\n",
       "      <td>False</td>\n",
       "      <td>False</td>\n",
       "      <td>False</td>\n",
       "      <td>False</td>\n",
       "      <td>False</td>\n",
       "      <td>Day</td>\n",
       "      <td>Day</td>\n",
       "      <td>Day</td>\n",
       "      <td>Day</td>\n",
       "    </tr>\n",
       "    <tr>\n",
       "      <th>7728392</th>\n",
       "      <td>A-7777760</td>\n",
       "      <td>Source1</td>\n",
       "      <td>2</td>\n",
       "      <td>2019-08-23 19:00:21</td>\n",
       "      <td>2019-08-23 19:29:42</td>\n",
       "      <td>33.992460</td>\n",
       "      <td>-118.403020</td>\n",
       "      <td>33.98311</td>\n",
       "      <td>-118.39565</td>\n",
       "      <td>0.772</td>\n",
       "      <td>...</td>\n",
       "      <td>False</td>\n",
       "      <td>False</td>\n",
       "      <td>False</td>\n",
       "      <td>False</td>\n",
       "      <td>False</td>\n",
       "      <td>False</td>\n",
       "      <td>Day</td>\n",
       "      <td>Day</td>\n",
       "      <td>Day</td>\n",
       "      <td>Day</td>\n",
       "    </tr>\n",
       "    <tr>\n",
       "      <th>7728393</th>\n",
       "      <td>A-7777761</td>\n",
       "      <td>Source1</td>\n",
       "      <td>2</td>\n",
       "      <td>2019-08-23 18:52:06</td>\n",
       "      <td>2019-08-23 19:21:31</td>\n",
       "      <td>34.133930</td>\n",
       "      <td>-117.230920</td>\n",
       "      <td>34.13736</td>\n",
       "      <td>-117.23934</td>\n",
       "      <td>0.537</td>\n",
       "      <td>...</td>\n",
       "      <td>False</td>\n",
       "      <td>False</td>\n",
       "      <td>False</td>\n",
       "      <td>False</td>\n",
       "      <td>False</td>\n",
       "      <td>False</td>\n",
       "      <td>Day</td>\n",
       "      <td>Day</td>\n",
       "      <td>Day</td>\n",
       "      <td>Day</td>\n",
       "    </tr>\n",
       "  </tbody>\n",
       "</table>\n",
       "<p>7728394 rows × 46 columns</p>\n",
       "</div>"
      ],
      "text/plain": [
       "                ID   Source  Severity           Start_Time  \\\n",
       "0              A-1  Source2         3  2016-02-08 05:46:00   \n",
       "1              A-2  Source2         2  2016-02-08 06:07:59   \n",
       "2              A-3  Source2         2  2016-02-08 06:49:27   \n",
       "3              A-4  Source2         3  2016-02-08 07:23:34   \n",
       "4              A-5  Source2         2  2016-02-08 07:39:07   \n",
       "...            ...      ...       ...                  ...   \n",
       "7728389  A-7777757  Source1         2  2019-08-23 18:03:25   \n",
       "7728390  A-7777758  Source1         2  2019-08-23 19:11:30   \n",
       "7728391  A-7777759  Source1         2  2019-08-23 19:00:21   \n",
       "7728392  A-7777760  Source1         2  2019-08-23 19:00:21   \n",
       "7728393  A-7777761  Source1         2  2019-08-23 18:52:06   \n",
       "\n",
       "                    End_Time  Start_Lat   Start_Lng   End_Lat    End_Lng  \\\n",
       "0        2016-02-08 11:00:00  39.865147  -84.058723       NaN        NaN   \n",
       "1        2016-02-08 06:37:59  39.928059  -82.831184       NaN        NaN   \n",
       "2        2016-02-08 07:19:27  39.063148  -84.032608       NaN        NaN   \n",
       "3        2016-02-08 07:53:34  39.747753  -84.205582       NaN        NaN   \n",
       "4        2016-02-08 08:09:07  39.627781  -84.188354       NaN        NaN   \n",
       "...                      ...        ...         ...       ...        ...   \n",
       "7728389  2019-08-23 18:32:01  34.002480 -117.379360  33.99888 -117.37094   \n",
       "7728390  2019-08-23 19:38:23  32.766960 -117.148060  32.76555 -117.15363   \n",
       "7728391  2019-08-23 19:28:49  33.775450 -117.847790  33.77740 -117.85727   \n",
       "7728392  2019-08-23 19:29:42  33.992460 -118.403020  33.98311 -118.39565   \n",
       "7728393  2019-08-23 19:21:31  34.133930 -117.230920  34.13736 -117.23934   \n",
       "\n",
       "         Distance(mi)  ... Roundabout Station   Stop Traffic_Calming  \\\n",
       "0               0.010  ...      False   False  False           False   \n",
       "1               0.010  ...      False   False  False           False   \n",
       "2               0.010  ...      False   False  False           False   \n",
       "3               0.010  ...      False   False  False           False   \n",
       "4               0.010  ...      False   False  False           False   \n",
       "...               ...  ...        ...     ...    ...             ...   \n",
       "7728389         0.543  ...      False   False  False           False   \n",
       "7728390         0.338  ...      False   False  False           False   \n",
       "7728391         0.561  ...      False   False  False           False   \n",
       "7728392         0.772  ...      False   False  False           False   \n",
       "7728393         0.537  ...      False   False  False           False   \n",
       "\n",
       "        Traffic_Signal Turning_Loop Sunrise_Sunset Civil_Twilight  \\\n",
       "0                False        False          Night          Night   \n",
       "1                False        False          Night          Night   \n",
       "2                 True        False          Night          Night   \n",
       "3                False        False          Night            Day   \n",
       "4                 True        False            Day            Day   \n",
       "...                ...          ...            ...            ...   \n",
       "7728389          False        False            Day            Day   \n",
       "7728390          False        False            Day            Day   \n",
       "7728391          False        False            Day            Day   \n",
       "7728392          False        False            Day            Day   \n",
       "7728393          False        False            Day            Day   \n",
       "\n",
       "        Nautical_Twilight Astronomical_Twilight  \n",
       "0                   Night                 Night  \n",
       "1                   Night                   Day  \n",
       "2                     Day                   Day  \n",
       "3                     Day                   Day  \n",
       "4                     Day                   Day  \n",
       "...                   ...                   ...  \n",
       "7728389               Day                   Day  \n",
       "7728390               Day                   Day  \n",
       "7728391               Day                   Day  \n",
       "7728392               Day                   Day  \n",
       "7728393               Day                   Day  \n",
       "\n",
       "[7728394 rows x 46 columns]"
      ]
     },
     "execution_count": 4,
     "metadata": {},
     "output_type": "execute_result"
    }
   ],
   "source": [
    "data = pd.read_csv('US_Accidents_March23.csv')\n",
    "data"
   ]
  },
  {
   "cell_type": "markdown",
   "id": "e198dd46",
   "metadata": {},
   "source": [
    "## Data preparation and cleaning"
   ]
  },
  {
   "cell_type": "code",
   "execution_count": 5,
   "id": "62ba6d30",
   "metadata": {},
   "outputs": [
    {
     "data": {
      "text/plain": [
       "Index(['ID', 'Source', 'Severity', 'Start_Time', 'End_Time', 'Start_Lat',\n",
       "       'Start_Lng', 'End_Lat', 'End_Lng', 'Distance(mi)', 'Description',\n",
       "       'Street', 'City', 'County', 'State', 'Zipcode', 'Country', 'Timezone',\n",
       "       'Airport_Code', 'Weather_Timestamp', 'Temperature(F)', 'Wind_Chill(F)',\n",
       "       'Humidity(%)', 'Pressure(in)', 'Visibility(mi)', 'Wind_Direction',\n",
       "       'Wind_Speed(mph)', 'Precipitation(in)', 'Weather_Condition', 'Amenity',\n",
       "       'Bump', 'Crossing', 'Give_Way', 'Junction', 'No_Exit', 'Railway',\n",
       "       'Roundabout', 'Station', 'Stop', 'Traffic_Calming', 'Traffic_Signal',\n",
       "       'Turning_Loop', 'Sunrise_Sunset', 'Civil_Twilight', 'Nautical_Twilight',\n",
       "       'Astronomical_Twilight'],\n",
       "      dtype='object')"
      ]
     },
     "execution_count": 5,
     "metadata": {},
     "output_type": "execute_result"
    }
   ],
   "source": [
    "data.columns"
   ]
  },
  {
   "cell_type": "code",
   "execution_count": 7,
   "id": "b84a10cb",
   "metadata": {},
   "outputs": [
    {
     "name": "stdout",
     "output_type": "stream",
     "text": [
      "<class 'pandas.core.frame.DataFrame'>\n",
      "RangeIndex: 7728394 entries, 0 to 7728393\n",
      "Data columns (total 46 columns):\n",
      " #   Column                 Dtype  \n",
      "---  ------                 -----  \n",
      " 0   ID                     object \n",
      " 1   Source                 object \n",
      " 2   Severity               int64  \n",
      " 3   Start_Time             object \n",
      " 4   End_Time               object \n",
      " 5   Start_Lat              float64\n",
      " 6   Start_Lng              float64\n",
      " 7   End_Lat                float64\n",
      " 8   End_Lng                float64\n",
      " 9   Distance(mi)           float64\n",
      " 10  Description            object \n",
      " 11  Street                 object \n",
      " 12  City                   object \n",
      " 13  County                 object \n",
      " 14  State                  object \n",
      " 15  Zipcode                object \n",
      " 16  Country                object \n",
      " 17  Timezone               object \n",
      " 18  Airport_Code           object \n",
      " 19  Weather_Timestamp      object \n",
      " 20  Temperature(F)         float64\n",
      " 21  Wind_Chill(F)          float64\n",
      " 22  Humidity(%)            float64\n",
      " 23  Pressure(in)           float64\n",
      " 24  Visibility(mi)         float64\n",
      " 25  Wind_Direction         object \n",
      " 26  Wind_Speed(mph)        float64\n",
      " 27  Precipitation(in)      float64\n",
      " 28  Weather_Condition      object \n",
      " 29  Amenity                bool   \n",
      " 30  Bump                   bool   \n",
      " 31  Crossing               bool   \n",
      " 32  Give_Way               bool   \n",
      " 33  Junction               bool   \n",
      " 34  No_Exit                bool   \n",
      " 35  Railway                bool   \n",
      " 36  Roundabout             bool   \n",
      " 37  Station                bool   \n",
      " 38  Stop                   bool   \n",
      " 39  Traffic_Calming        bool   \n",
      " 40  Traffic_Signal         bool   \n",
      " 41  Turning_Loop           bool   \n",
      " 42  Sunrise_Sunset         object \n",
      " 43  Civil_Twilight         object \n",
      " 44  Nautical_Twilight      object \n",
      " 45  Astronomical_Twilight  object \n",
      "dtypes: bool(13), float64(12), int64(1), object(20)\n",
      "memory usage: 2.0+ GB\n"
     ]
    }
   ],
   "source": [
    "data.info()"
   ]
  },
  {
   "cell_type": "code",
   "execution_count": 8,
   "id": "d07746b2",
   "metadata": {},
   "outputs": [
    {
     "data": {
      "text/html": [
       "<div>\n",
       "<style scoped>\n",
       "    .dataframe tbody tr th:only-of-type {\n",
       "        vertical-align: middle;\n",
       "    }\n",
       "\n",
       "    .dataframe tbody tr th {\n",
       "        vertical-align: top;\n",
       "    }\n",
       "\n",
       "    .dataframe thead th {\n",
       "        text-align: right;\n",
       "    }\n",
       "</style>\n",
       "<table border=\"1\" class=\"dataframe\">\n",
       "  <thead>\n",
       "    <tr style=\"text-align: right;\">\n",
       "      <th></th>\n",
       "      <th>Severity</th>\n",
       "      <th>Start_Lat</th>\n",
       "      <th>Start_Lng</th>\n",
       "      <th>End_Lat</th>\n",
       "      <th>End_Lng</th>\n",
       "      <th>Distance(mi)</th>\n",
       "      <th>Temperature(F)</th>\n",
       "      <th>Wind_Chill(F)</th>\n",
       "      <th>Humidity(%)</th>\n",
       "      <th>Pressure(in)</th>\n",
       "      <th>Visibility(mi)</th>\n",
       "      <th>Wind_Speed(mph)</th>\n",
       "      <th>Precipitation(in)</th>\n",
       "    </tr>\n",
       "  </thead>\n",
       "  <tbody>\n",
       "    <tr>\n",
       "      <th>count</th>\n",
       "      <td>7.728394e+06</td>\n",
       "      <td>7.728394e+06</td>\n",
       "      <td>7.728394e+06</td>\n",
       "      <td>4.325632e+06</td>\n",
       "      <td>4.325632e+06</td>\n",
       "      <td>7.728394e+06</td>\n",
       "      <td>7.564541e+06</td>\n",
       "      <td>5.729375e+06</td>\n",
       "      <td>7.554250e+06</td>\n",
       "      <td>7.587715e+06</td>\n",
       "      <td>7.551296e+06</td>\n",
       "      <td>7.157161e+06</td>\n",
       "      <td>5.524808e+06</td>\n",
       "    </tr>\n",
       "    <tr>\n",
       "      <th>mean</th>\n",
       "      <td>2.212384e+00</td>\n",
       "      <td>3.620119e+01</td>\n",
       "      <td>-9.470255e+01</td>\n",
       "      <td>3.626183e+01</td>\n",
       "      <td>-9.572557e+01</td>\n",
       "      <td>5.618423e-01</td>\n",
       "      <td>6.166329e+01</td>\n",
       "      <td>5.825105e+01</td>\n",
       "      <td>6.483104e+01</td>\n",
       "      <td>2.953899e+01</td>\n",
       "      <td>9.090376e+00</td>\n",
       "      <td>7.685490e+00</td>\n",
       "      <td>8.407210e-03</td>\n",
       "    </tr>\n",
       "    <tr>\n",
       "      <th>std</th>\n",
       "      <td>4.875313e-01</td>\n",
       "      <td>5.076079e+00</td>\n",
       "      <td>1.739176e+01</td>\n",
       "      <td>5.272905e+00</td>\n",
       "      <td>1.810793e+01</td>\n",
       "      <td>1.776811e+00</td>\n",
       "      <td>1.901365e+01</td>\n",
       "      <td>2.238983e+01</td>\n",
       "      <td>2.282097e+01</td>\n",
       "      <td>1.006190e+00</td>\n",
       "      <td>2.688316e+00</td>\n",
       "      <td>5.424983e+00</td>\n",
       "      <td>1.102246e-01</td>\n",
       "    </tr>\n",
       "    <tr>\n",
       "      <th>min</th>\n",
       "      <td>1.000000e+00</td>\n",
       "      <td>2.455480e+01</td>\n",
       "      <td>-1.246238e+02</td>\n",
       "      <td>2.456601e+01</td>\n",
       "      <td>-1.245457e+02</td>\n",
       "      <td>0.000000e+00</td>\n",
       "      <td>-8.900000e+01</td>\n",
       "      <td>-8.900000e+01</td>\n",
       "      <td>1.000000e+00</td>\n",
       "      <td>0.000000e+00</td>\n",
       "      <td>0.000000e+00</td>\n",
       "      <td>0.000000e+00</td>\n",
       "      <td>0.000000e+00</td>\n",
       "    </tr>\n",
       "    <tr>\n",
       "      <th>25%</th>\n",
       "      <td>2.000000e+00</td>\n",
       "      <td>3.339963e+01</td>\n",
       "      <td>-1.172194e+02</td>\n",
       "      <td>3.346207e+01</td>\n",
       "      <td>-1.177543e+02</td>\n",
       "      <td>0.000000e+00</td>\n",
       "      <td>4.900000e+01</td>\n",
       "      <td>4.300000e+01</td>\n",
       "      <td>4.800000e+01</td>\n",
       "      <td>2.937000e+01</td>\n",
       "      <td>1.000000e+01</td>\n",
       "      <td>4.600000e+00</td>\n",
       "      <td>0.000000e+00</td>\n",
       "    </tr>\n",
       "    <tr>\n",
       "      <th>50%</th>\n",
       "      <td>2.000000e+00</td>\n",
       "      <td>3.582397e+01</td>\n",
       "      <td>-8.776662e+01</td>\n",
       "      <td>3.618349e+01</td>\n",
       "      <td>-8.802789e+01</td>\n",
       "      <td>3.000000e-02</td>\n",
       "      <td>6.400000e+01</td>\n",
       "      <td>6.200000e+01</td>\n",
       "      <td>6.700000e+01</td>\n",
       "      <td>2.986000e+01</td>\n",
       "      <td>1.000000e+01</td>\n",
       "      <td>7.000000e+00</td>\n",
       "      <td>0.000000e+00</td>\n",
       "    </tr>\n",
       "    <tr>\n",
       "      <th>75%</th>\n",
       "      <td>2.000000e+00</td>\n",
       "      <td>4.008496e+01</td>\n",
       "      <td>-8.035368e+01</td>\n",
       "      <td>4.017892e+01</td>\n",
       "      <td>-8.024709e+01</td>\n",
       "      <td>4.640000e-01</td>\n",
       "      <td>7.600000e+01</td>\n",
       "      <td>7.500000e+01</td>\n",
       "      <td>8.400000e+01</td>\n",
       "      <td>3.003000e+01</td>\n",
       "      <td>1.000000e+01</td>\n",
       "      <td>1.040000e+01</td>\n",
       "      <td>0.000000e+00</td>\n",
       "    </tr>\n",
       "    <tr>\n",
       "      <th>max</th>\n",
       "      <td>4.000000e+00</td>\n",
       "      <td>4.900220e+01</td>\n",
       "      <td>-6.711317e+01</td>\n",
       "      <td>4.907500e+01</td>\n",
       "      <td>-6.710924e+01</td>\n",
       "      <td>4.417500e+02</td>\n",
       "      <td>2.070000e+02</td>\n",
       "      <td>2.070000e+02</td>\n",
       "      <td>1.000000e+02</td>\n",
       "      <td>5.863000e+01</td>\n",
       "      <td>1.400000e+02</td>\n",
       "      <td>1.087000e+03</td>\n",
       "      <td>3.647000e+01</td>\n",
       "    </tr>\n",
       "  </tbody>\n",
       "</table>\n",
       "</div>"
      ],
      "text/plain": [
       "           Severity     Start_Lat     Start_Lng       End_Lat       End_Lng  \\\n",
       "count  7.728394e+06  7.728394e+06  7.728394e+06  4.325632e+06  4.325632e+06   \n",
       "mean   2.212384e+00  3.620119e+01 -9.470255e+01  3.626183e+01 -9.572557e+01   \n",
       "std    4.875313e-01  5.076079e+00  1.739176e+01  5.272905e+00  1.810793e+01   \n",
       "min    1.000000e+00  2.455480e+01 -1.246238e+02  2.456601e+01 -1.245457e+02   \n",
       "25%    2.000000e+00  3.339963e+01 -1.172194e+02  3.346207e+01 -1.177543e+02   \n",
       "50%    2.000000e+00  3.582397e+01 -8.776662e+01  3.618349e+01 -8.802789e+01   \n",
       "75%    2.000000e+00  4.008496e+01 -8.035368e+01  4.017892e+01 -8.024709e+01   \n",
       "max    4.000000e+00  4.900220e+01 -6.711317e+01  4.907500e+01 -6.710924e+01   \n",
       "\n",
       "       Distance(mi)  Temperature(F)  Wind_Chill(F)   Humidity(%)  \\\n",
       "count  7.728394e+06    7.564541e+06   5.729375e+06  7.554250e+06   \n",
       "mean   5.618423e-01    6.166329e+01   5.825105e+01  6.483104e+01   \n",
       "std    1.776811e+00    1.901365e+01   2.238983e+01  2.282097e+01   \n",
       "min    0.000000e+00   -8.900000e+01  -8.900000e+01  1.000000e+00   \n",
       "25%    0.000000e+00    4.900000e+01   4.300000e+01  4.800000e+01   \n",
       "50%    3.000000e-02    6.400000e+01   6.200000e+01  6.700000e+01   \n",
       "75%    4.640000e-01    7.600000e+01   7.500000e+01  8.400000e+01   \n",
       "max    4.417500e+02    2.070000e+02   2.070000e+02  1.000000e+02   \n",
       "\n",
       "       Pressure(in)  Visibility(mi)  Wind_Speed(mph)  Precipitation(in)  \n",
       "count  7.587715e+06    7.551296e+06     7.157161e+06       5.524808e+06  \n",
       "mean   2.953899e+01    9.090376e+00     7.685490e+00       8.407210e-03  \n",
       "std    1.006190e+00    2.688316e+00     5.424983e+00       1.102246e-01  \n",
       "min    0.000000e+00    0.000000e+00     0.000000e+00       0.000000e+00  \n",
       "25%    2.937000e+01    1.000000e+01     4.600000e+00       0.000000e+00  \n",
       "50%    2.986000e+01    1.000000e+01     7.000000e+00       0.000000e+00  \n",
       "75%    3.003000e+01    1.000000e+01     1.040000e+01       0.000000e+00  \n",
       "max    5.863000e+01    1.400000e+02     1.087000e+03       3.647000e+01  "
      ]
     },
     "execution_count": 8,
     "metadata": {},
     "output_type": "execute_result"
    }
   ],
   "source": [
    "data.describe()"
   ]
  },
  {
   "cell_type": "code",
   "execution_count": 11,
   "id": "b66d3d46",
   "metadata": {},
   "outputs": [
    {
     "data": {
      "text/plain": [
       "13"
      ]
     },
     "execution_count": 11,
     "metadata": {},
     "output_type": "execute_result"
    }
   ],
   "source": [
    "numerical = ['int16', 'int32', 'int64', 'float16', 'float32', 'float64']\n",
    "\n",
    "numerical_data = data.select_dtypes(include=numerical)\n",
    "len(numerical_data.columns)"
   ]
  },
  {
   "cell_type": "code",
   "execution_count": 13,
   "id": "84ae825b",
   "metadata": {},
   "outputs": [
    {
     "data": {
      "text/plain": [
       "End_Lat                  3402762\n",
       "End_Lng                  3402762\n",
       "Precipitation(in)        2203586\n",
       "Wind_Chill(F)            1999019\n",
       "Wind_Speed(mph)           571233\n",
       "Visibility(mi)            177098\n",
       "Wind_Direction            175206\n",
       "Humidity(%)               174144\n",
       "Weather_Condition         173459\n",
       "Temperature(F)            163853\n",
       "Pressure(in)              140679\n",
       "Weather_Timestamp         120228\n",
       "Nautical_Twilight          23246\n",
       "Civil_Twilight             23246\n",
       "Sunrise_Sunset             23246\n",
       "Astronomical_Twilight      23246\n",
       "Airport_Code               22635\n",
       "Street                     10869\n",
       "Timezone                    7808\n",
       "Zipcode                     1915\n",
       "City                         253\n",
       "Description                    5\n",
       "Traffic_Signal                 0\n",
       "Roundabout                     0\n",
       "Station                        0\n",
       "Stop                           0\n",
       "Traffic_Calming                0\n",
       "Country                        0\n",
       "Turning_Loop                   0\n",
       "No_Exit                        0\n",
       "End_Time                       0\n",
       "Start_Time                     0\n",
       "Severity                       0\n",
       "Railway                        0\n",
       "Crossing                       0\n",
       "Junction                       0\n",
       "Give_Way                       0\n",
       "Bump                           0\n",
       "Amenity                        0\n",
       "Start_Lat                      0\n",
       "Start_Lng                      0\n",
       "Distance(mi)                   0\n",
       "Source                         0\n",
       "County                         0\n",
       "State                          0\n",
       "ID                             0\n",
       "dtype: int64"
      ]
     },
     "execution_count": 13,
     "metadata": {},
     "output_type": "execute_result"
    }
   ],
   "source": [
    "#Count of missing values\n",
    "data.isna().sum().sort_values(ascending=False)"
   ]
  },
  {
   "cell_type": "code",
   "execution_count": 18,
   "id": "6292c936",
   "metadata": {},
   "outputs": [
    {
     "data": {
      "text/html": [
       "<div>\n",
       "<style scoped>\n",
       "    .dataframe tbody tr th:only-of-type {\n",
       "        vertical-align: middle;\n",
       "    }\n",
       "\n",
       "    .dataframe tbody tr th {\n",
       "        vertical-align: top;\n",
       "    }\n",
       "\n",
       "    .dataframe thead th {\n",
       "        text-align: right;\n",
       "    }\n",
       "</style>\n",
       "<table border=\"1\" class=\"dataframe\">\n",
       "  <thead>\n",
       "    <tr style=\"text-align: right;\">\n",
       "      <th></th>\n",
       "      <th>ID</th>\n",
       "      <th>Source</th>\n",
       "      <th>Severity</th>\n",
       "      <th>Start_Time</th>\n",
       "      <th>End_Time</th>\n",
       "      <th>Start_Lat</th>\n",
       "      <th>Start_Lng</th>\n",
       "      <th>Distance(mi)</th>\n",
       "      <th>Description</th>\n",
       "      <th>Street</th>\n",
       "      <th>...</th>\n",
       "      <th>Roundabout</th>\n",
       "      <th>Station</th>\n",
       "      <th>Stop</th>\n",
       "      <th>Traffic_Calming</th>\n",
       "      <th>Traffic_Signal</th>\n",
       "      <th>Turning_Loop</th>\n",
       "      <th>Sunrise_Sunset</th>\n",
       "      <th>Civil_Twilight</th>\n",
       "      <th>Nautical_Twilight</th>\n",
       "      <th>Astronomical_Twilight</th>\n",
       "    </tr>\n",
       "  </thead>\n",
       "  <tbody>\n",
       "    <tr>\n",
       "      <th>0</th>\n",
       "      <td>A-1</td>\n",
       "      <td>Source2</td>\n",
       "      <td>3</td>\n",
       "      <td>2016-02-08 05:46:00</td>\n",
       "      <td>2016-02-08 11:00:00</td>\n",
       "      <td>39.865147</td>\n",
       "      <td>-84.058723</td>\n",
       "      <td>0.010</td>\n",
       "      <td>Right lane blocked due to accident on I-70 Eas...</td>\n",
       "      <td>I-70 E</td>\n",
       "      <td>...</td>\n",
       "      <td>False</td>\n",
       "      <td>False</td>\n",
       "      <td>False</td>\n",
       "      <td>False</td>\n",
       "      <td>False</td>\n",
       "      <td>False</td>\n",
       "      <td>Night</td>\n",
       "      <td>Night</td>\n",
       "      <td>Night</td>\n",
       "      <td>Night</td>\n",
       "    </tr>\n",
       "    <tr>\n",
       "      <th>1</th>\n",
       "      <td>A-2</td>\n",
       "      <td>Source2</td>\n",
       "      <td>2</td>\n",
       "      <td>2016-02-08 06:07:59</td>\n",
       "      <td>2016-02-08 06:37:59</td>\n",
       "      <td>39.928059</td>\n",
       "      <td>-82.831184</td>\n",
       "      <td>0.010</td>\n",
       "      <td>Accident on Brice Rd at Tussing Rd. Expect del...</td>\n",
       "      <td>Brice Rd</td>\n",
       "      <td>...</td>\n",
       "      <td>False</td>\n",
       "      <td>False</td>\n",
       "      <td>False</td>\n",
       "      <td>False</td>\n",
       "      <td>False</td>\n",
       "      <td>False</td>\n",
       "      <td>Night</td>\n",
       "      <td>Night</td>\n",
       "      <td>Night</td>\n",
       "      <td>Day</td>\n",
       "    </tr>\n",
       "    <tr>\n",
       "      <th>2</th>\n",
       "      <td>A-3</td>\n",
       "      <td>Source2</td>\n",
       "      <td>2</td>\n",
       "      <td>2016-02-08 06:49:27</td>\n",
       "      <td>2016-02-08 07:19:27</td>\n",
       "      <td>39.063148</td>\n",
       "      <td>-84.032608</td>\n",
       "      <td>0.010</td>\n",
       "      <td>Accident on OH-32 State Route 32 Westbound at ...</td>\n",
       "      <td>State Route 32</td>\n",
       "      <td>...</td>\n",
       "      <td>False</td>\n",
       "      <td>False</td>\n",
       "      <td>False</td>\n",
       "      <td>False</td>\n",
       "      <td>True</td>\n",
       "      <td>False</td>\n",
       "      <td>Night</td>\n",
       "      <td>Night</td>\n",
       "      <td>Day</td>\n",
       "      <td>Day</td>\n",
       "    </tr>\n",
       "    <tr>\n",
       "      <th>3</th>\n",
       "      <td>A-4</td>\n",
       "      <td>Source2</td>\n",
       "      <td>3</td>\n",
       "      <td>2016-02-08 07:23:34</td>\n",
       "      <td>2016-02-08 07:53:34</td>\n",
       "      <td>39.747753</td>\n",
       "      <td>-84.205582</td>\n",
       "      <td>0.010</td>\n",
       "      <td>Accident on I-75 Southbound at Exits 52 52B US...</td>\n",
       "      <td>I-75 S</td>\n",
       "      <td>...</td>\n",
       "      <td>False</td>\n",
       "      <td>False</td>\n",
       "      <td>False</td>\n",
       "      <td>False</td>\n",
       "      <td>False</td>\n",
       "      <td>False</td>\n",
       "      <td>Night</td>\n",
       "      <td>Day</td>\n",
       "      <td>Day</td>\n",
       "      <td>Day</td>\n",
       "    </tr>\n",
       "    <tr>\n",
       "      <th>4</th>\n",
       "      <td>A-5</td>\n",
       "      <td>Source2</td>\n",
       "      <td>2</td>\n",
       "      <td>2016-02-08 07:39:07</td>\n",
       "      <td>2016-02-08 08:09:07</td>\n",
       "      <td>39.627781</td>\n",
       "      <td>-84.188354</td>\n",
       "      <td>0.010</td>\n",
       "      <td>Accident on McEwen Rd at OH-725 Miamisburg Cen...</td>\n",
       "      <td>Miamisburg Centerville Rd</td>\n",
       "      <td>...</td>\n",
       "      <td>False</td>\n",
       "      <td>False</td>\n",
       "      <td>False</td>\n",
       "      <td>False</td>\n",
       "      <td>True</td>\n",
       "      <td>False</td>\n",
       "      <td>Day</td>\n",
       "      <td>Day</td>\n",
       "      <td>Day</td>\n",
       "      <td>Day</td>\n",
       "    </tr>\n",
       "    <tr>\n",
       "      <th>...</th>\n",
       "      <td>...</td>\n",
       "      <td>...</td>\n",
       "      <td>...</td>\n",
       "      <td>...</td>\n",
       "      <td>...</td>\n",
       "      <td>...</td>\n",
       "      <td>...</td>\n",
       "      <td>...</td>\n",
       "      <td>...</td>\n",
       "      <td>...</td>\n",
       "      <td>...</td>\n",
       "      <td>...</td>\n",
       "      <td>...</td>\n",
       "      <td>...</td>\n",
       "      <td>...</td>\n",
       "      <td>...</td>\n",
       "      <td>...</td>\n",
       "      <td>...</td>\n",
       "      <td>...</td>\n",
       "      <td>...</td>\n",
       "      <td>...</td>\n",
       "    </tr>\n",
       "    <tr>\n",
       "      <th>7728389</th>\n",
       "      <td>A-7777757</td>\n",
       "      <td>Source1</td>\n",
       "      <td>2</td>\n",
       "      <td>2019-08-23 18:03:25</td>\n",
       "      <td>2019-08-23 18:32:01</td>\n",
       "      <td>34.002480</td>\n",
       "      <td>-117.379360</td>\n",
       "      <td>0.543</td>\n",
       "      <td>At Market St - Accident.</td>\n",
       "      <td>Pomona Fwy E</td>\n",
       "      <td>...</td>\n",
       "      <td>False</td>\n",
       "      <td>False</td>\n",
       "      <td>False</td>\n",
       "      <td>False</td>\n",
       "      <td>False</td>\n",
       "      <td>False</td>\n",
       "      <td>Day</td>\n",
       "      <td>Day</td>\n",
       "      <td>Day</td>\n",
       "      <td>Day</td>\n",
       "    </tr>\n",
       "    <tr>\n",
       "      <th>7728390</th>\n",
       "      <td>A-7777758</td>\n",
       "      <td>Source1</td>\n",
       "      <td>2</td>\n",
       "      <td>2019-08-23 19:11:30</td>\n",
       "      <td>2019-08-23 19:38:23</td>\n",
       "      <td>32.766960</td>\n",
       "      <td>-117.148060</td>\n",
       "      <td>0.338</td>\n",
       "      <td>At Camino Del Rio/Mission Center Rd - Accident.</td>\n",
       "      <td>I-8 W</td>\n",
       "      <td>...</td>\n",
       "      <td>False</td>\n",
       "      <td>False</td>\n",
       "      <td>False</td>\n",
       "      <td>False</td>\n",
       "      <td>False</td>\n",
       "      <td>False</td>\n",
       "      <td>Day</td>\n",
       "      <td>Day</td>\n",
       "      <td>Day</td>\n",
       "      <td>Day</td>\n",
       "    </tr>\n",
       "    <tr>\n",
       "      <th>7728391</th>\n",
       "      <td>A-7777759</td>\n",
       "      <td>Source1</td>\n",
       "      <td>2</td>\n",
       "      <td>2019-08-23 19:00:21</td>\n",
       "      <td>2019-08-23 19:28:49</td>\n",
       "      <td>33.775450</td>\n",
       "      <td>-117.847790</td>\n",
       "      <td>0.561</td>\n",
       "      <td>At Glassell St/Grand Ave - Accident. in the ri...</td>\n",
       "      <td>Garden Grove Fwy</td>\n",
       "      <td>...</td>\n",
       "      <td>False</td>\n",
       "      <td>False</td>\n",
       "      <td>False</td>\n",
       "      <td>False</td>\n",
       "      <td>False</td>\n",
       "      <td>False</td>\n",
       "      <td>Day</td>\n",
       "      <td>Day</td>\n",
       "      <td>Day</td>\n",
       "      <td>Day</td>\n",
       "    </tr>\n",
       "    <tr>\n",
       "      <th>7728392</th>\n",
       "      <td>A-7777760</td>\n",
       "      <td>Source1</td>\n",
       "      <td>2</td>\n",
       "      <td>2019-08-23 19:00:21</td>\n",
       "      <td>2019-08-23 19:29:42</td>\n",
       "      <td>33.992460</td>\n",
       "      <td>-118.403020</td>\n",
       "      <td>0.772</td>\n",
       "      <td>At CA-90/Marina Fwy/Jefferson Blvd - Accident.</td>\n",
       "      <td>San Diego Fwy S</td>\n",
       "      <td>...</td>\n",
       "      <td>False</td>\n",
       "      <td>False</td>\n",
       "      <td>False</td>\n",
       "      <td>False</td>\n",
       "      <td>False</td>\n",
       "      <td>False</td>\n",
       "      <td>Day</td>\n",
       "      <td>Day</td>\n",
       "      <td>Day</td>\n",
       "      <td>Day</td>\n",
       "    </tr>\n",
       "    <tr>\n",
       "      <th>7728393</th>\n",
       "      <td>A-7777761</td>\n",
       "      <td>Source1</td>\n",
       "      <td>2</td>\n",
       "      <td>2019-08-23 18:52:06</td>\n",
       "      <td>2019-08-23 19:21:31</td>\n",
       "      <td>34.133930</td>\n",
       "      <td>-117.230920</td>\n",
       "      <td>0.537</td>\n",
       "      <td>At Highland Ave/Arden Ave - Accident.</td>\n",
       "      <td>CA-210 W</td>\n",
       "      <td>...</td>\n",
       "      <td>False</td>\n",
       "      <td>False</td>\n",
       "      <td>False</td>\n",
       "      <td>False</td>\n",
       "      <td>False</td>\n",
       "      <td>False</td>\n",
       "      <td>Day</td>\n",
       "      <td>Day</td>\n",
       "      <td>Day</td>\n",
       "      <td>Day</td>\n",
       "    </tr>\n",
       "  </tbody>\n",
       "</table>\n",
       "<p>7728394 rows × 44 columns</p>\n",
       "</div>"
      ],
      "text/plain": [
       "                ID   Source  Severity           Start_Time  \\\n",
       "0              A-1  Source2         3  2016-02-08 05:46:00   \n",
       "1              A-2  Source2         2  2016-02-08 06:07:59   \n",
       "2              A-3  Source2         2  2016-02-08 06:49:27   \n",
       "3              A-4  Source2         3  2016-02-08 07:23:34   \n",
       "4              A-5  Source2         2  2016-02-08 07:39:07   \n",
       "...            ...      ...       ...                  ...   \n",
       "7728389  A-7777757  Source1         2  2019-08-23 18:03:25   \n",
       "7728390  A-7777758  Source1         2  2019-08-23 19:11:30   \n",
       "7728391  A-7777759  Source1         2  2019-08-23 19:00:21   \n",
       "7728392  A-7777760  Source1         2  2019-08-23 19:00:21   \n",
       "7728393  A-7777761  Source1         2  2019-08-23 18:52:06   \n",
       "\n",
       "                    End_Time  Start_Lat   Start_Lng  Distance(mi)  \\\n",
       "0        2016-02-08 11:00:00  39.865147  -84.058723         0.010   \n",
       "1        2016-02-08 06:37:59  39.928059  -82.831184         0.010   \n",
       "2        2016-02-08 07:19:27  39.063148  -84.032608         0.010   \n",
       "3        2016-02-08 07:53:34  39.747753  -84.205582         0.010   \n",
       "4        2016-02-08 08:09:07  39.627781  -84.188354         0.010   \n",
       "...                      ...        ...         ...           ...   \n",
       "7728389  2019-08-23 18:32:01  34.002480 -117.379360         0.543   \n",
       "7728390  2019-08-23 19:38:23  32.766960 -117.148060         0.338   \n",
       "7728391  2019-08-23 19:28:49  33.775450 -117.847790         0.561   \n",
       "7728392  2019-08-23 19:29:42  33.992460 -118.403020         0.772   \n",
       "7728393  2019-08-23 19:21:31  34.133930 -117.230920         0.537   \n",
       "\n",
       "                                               Description  \\\n",
       "0        Right lane blocked due to accident on I-70 Eas...   \n",
       "1        Accident on Brice Rd at Tussing Rd. Expect del...   \n",
       "2        Accident on OH-32 State Route 32 Westbound at ...   \n",
       "3        Accident on I-75 Southbound at Exits 52 52B US...   \n",
       "4        Accident on McEwen Rd at OH-725 Miamisburg Cen...   \n",
       "...                                                    ...   \n",
       "7728389                           At Market St - Accident.   \n",
       "7728390    At Camino Del Rio/Mission Center Rd - Accident.   \n",
       "7728391  At Glassell St/Grand Ave - Accident. in the ri...   \n",
       "7728392     At CA-90/Marina Fwy/Jefferson Blvd - Accident.   \n",
       "7728393              At Highland Ave/Arden Ave - Accident.   \n",
       "\n",
       "                            Street  ... Roundabout Station   Stop  \\\n",
       "0                           I-70 E  ...      False   False  False   \n",
       "1                         Brice Rd  ...      False   False  False   \n",
       "2                   State Route 32  ...      False   False  False   \n",
       "3                           I-75 S  ...      False   False  False   \n",
       "4        Miamisburg Centerville Rd  ...      False   False  False   \n",
       "...                            ...  ...        ...     ...    ...   \n",
       "7728389               Pomona Fwy E  ...      False   False  False   \n",
       "7728390                      I-8 W  ...      False   False  False   \n",
       "7728391           Garden Grove Fwy  ...      False   False  False   \n",
       "7728392            San Diego Fwy S  ...      False   False  False   \n",
       "7728393                   CA-210 W  ...      False   False  False   \n",
       "\n",
       "        Traffic_Calming Traffic_Signal Turning_Loop Sunrise_Sunset  \\\n",
       "0                 False          False        False          Night   \n",
       "1                 False          False        False          Night   \n",
       "2                 False           True        False          Night   \n",
       "3                 False          False        False          Night   \n",
       "4                 False           True        False            Day   \n",
       "...                 ...            ...          ...            ...   \n",
       "7728389           False          False        False            Day   \n",
       "7728390           False          False        False            Day   \n",
       "7728391           False          False        False            Day   \n",
       "7728392           False          False        False            Day   \n",
       "7728393           False          False        False            Day   \n",
       "\n",
       "        Civil_Twilight  Nautical_Twilight  Astronomical_Twilight  \n",
       "0                Night              Night                  Night  \n",
       "1                Night              Night                    Day  \n",
       "2                Night                Day                    Day  \n",
       "3                  Day                Day                    Day  \n",
       "4                  Day                Day                    Day  \n",
       "...                ...                ...                    ...  \n",
       "7728389            Day                Day                    Day  \n",
       "7728390            Day                Day                    Day  \n",
       "7728391            Day                Day                    Day  \n",
       "7728392            Day                Day                    Day  \n",
       "7728393            Day                Day                    Day  \n",
       "\n",
       "[7728394 rows x 44 columns]"
      ]
     },
     "execution_count": 18,
     "metadata": {},
     "output_type": "execute_result"
    }
   ],
   "source": [
    "#Removing columns we won't use\n",
    "data2 = data.drop(['End_Lat', 'End_Lng'], axis=1)\n",
    "data2"
   ]
  },
  {
   "cell_type": "code",
   "execution_count": 42,
   "id": "4ac8e15d",
   "metadata": {},
   "outputs": [
    {
     "data": {
      "text/html": [
       "<div>\n",
       "<style scoped>\n",
       "    .dataframe tbody tr th:only-of-type {\n",
       "        vertical-align: middle;\n",
       "    }\n",
       "\n",
       "    .dataframe tbody tr th {\n",
       "        vertical-align: top;\n",
       "    }\n",
       "\n",
       "    .dataframe thead th {\n",
       "        text-align: right;\n",
       "    }\n",
       "</style>\n",
       "<table border=\"1\" class=\"dataframe\">\n",
       "  <thead>\n",
       "    <tr style=\"text-align: right;\">\n",
       "      <th></th>\n",
       "      <th>ID</th>\n",
       "      <th>Source</th>\n",
       "      <th>Severity</th>\n",
       "      <th>Start_Time</th>\n",
       "      <th>End_Time</th>\n",
       "      <th>Start_Lat</th>\n",
       "      <th>Start_Lng</th>\n",
       "      <th>Distance(mi)</th>\n",
       "      <th>Description</th>\n",
       "      <th>Street</th>\n",
       "      <th>...</th>\n",
       "      <th>Roundabout</th>\n",
       "      <th>Station</th>\n",
       "      <th>Stop</th>\n",
       "      <th>Traffic_Calming</th>\n",
       "      <th>Traffic_Signal</th>\n",
       "      <th>Turning_Loop</th>\n",
       "      <th>Sunrise_Sunset</th>\n",
       "      <th>Civil_Twilight</th>\n",
       "      <th>Nautical_Twilight</th>\n",
       "      <th>Astronomical_Twilight</th>\n",
       "    </tr>\n",
       "  </thead>\n",
       "  <tbody>\n",
       "    <tr>\n",
       "      <th>5</th>\n",
       "      <td>A-6</td>\n",
       "      <td>Source2</td>\n",
       "      <td>3</td>\n",
       "      <td>2016-02-08 07:44:26</td>\n",
       "      <td>2016-02-08 08:14:26</td>\n",
       "      <td>40.100590</td>\n",
       "      <td>-82.925194</td>\n",
       "      <td>0.010</td>\n",
       "      <td>Accident on I-270 Outerbelt Northbound near Ex...</td>\n",
       "      <td>Westerville Rd</td>\n",
       "      <td>...</td>\n",
       "      <td>False</td>\n",
       "      <td>False</td>\n",
       "      <td>False</td>\n",
       "      <td>False</td>\n",
       "      <td>False</td>\n",
       "      <td>False</td>\n",
       "      <td>Day</td>\n",
       "      <td>Day</td>\n",
       "      <td>Day</td>\n",
       "      <td>Day</td>\n",
       "    </tr>\n",
       "    <tr>\n",
       "      <th>9</th>\n",
       "      <td>A-10</td>\n",
       "      <td>Source2</td>\n",
       "      <td>3</td>\n",
       "      <td>2016-02-08 08:10:04</td>\n",
       "      <td>2016-02-08 08:40:04</td>\n",
       "      <td>40.100590</td>\n",
       "      <td>-82.925194</td>\n",
       "      <td>0.010</td>\n",
       "      <td>Right hand shoulder blocked due to accident on...</td>\n",
       "      <td>Westerville Rd</td>\n",
       "      <td>...</td>\n",
       "      <td>False</td>\n",
       "      <td>False</td>\n",
       "      <td>False</td>\n",
       "      <td>False</td>\n",
       "      <td>False</td>\n",
       "      <td>False</td>\n",
       "      <td>Day</td>\n",
       "      <td>Day</td>\n",
       "      <td>Day</td>\n",
       "      <td>Day</td>\n",
       "    </tr>\n",
       "    <tr>\n",
       "      <th>11</th>\n",
       "      <td>A-12</td>\n",
       "      <td>Source2</td>\n",
       "      <td>3</td>\n",
       "      <td>2016-02-08 08:21:27</td>\n",
       "      <td>2016-02-08 08:51:27</td>\n",
       "      <td>39.932709</td>\n",
       "      <td>-82.830910</td>\n",
       "      <td>0.010</td>\n",
       "      <td>One lane blocked due to accident on I-70 Westb...</td>\n",
       "      <td>I-70 E</td>\n",
       "      <td>...</td>\n",
       "      <td>False</td>\n",
       "      <td>False</td>\n",
       "      <td>False</td>\n",
       "      <td>False</td>\n",
       "      <td>False</td>\n",
       "      <td>False</td>\n",
       "      <td>Day</td>\n",
       "      <td>Day</td>\n",
       "      <td>Day</td>\n",
       "      <td>Day</td>\n",
       "    </tr>\n",
       "    <tr>\n",
       "      <th>14</th>\n",
       "      <td>A-15</td>\n",
       "      <td>Source2</td>\n",
       "      <td>2</td>\n",
       "      <td>2016-02-08 08:39:43</td>\n",
       "      <td>2016-02-08 09:09:43</td>\n",
       "      <td>39.972038</td>\n",
       "      <td>-82.913521</td>\n",
       "      <td>0.010</td>\n",
       "      <td>Accident on OH-16 Broad St at James Rd. Expect...</td>\n",
       "      <td>E Broad St</td>\n",
       "      <td>...</td>\n",
       "      <td>False</td>\n",
       "      <td>False</td>\n",
       "      <td>False</td>\n",
       "      <td>False</td>\n",
       "      <td>True</td>\n",
       "      <td>False</td>\n",
       "      <td>Day</td>\n",
       "      <td>Day</td>\n",
       "      <td>Day</td>\n",
       "      <td>Day</td>\n",
       "    </tr>\n",
       "    <tr>\n",
       "      <th>20</th>\n",
       "      <td>A-21</td>\n",
       "      <td>Source2</td>\n",
       "      <td>2</td>\n",
       "      <td>2016-02-08 10:11:15</td>\n",
       "      <td>2016-02-08 10:41:15</td>\n",
       "      <td>40.052509</td>\n",
       "      <td>-82.882332</td>\n",
       "      <td>0.000</td>\n",
       "      <td>Accident on Brookhill Dr at Glenhurst Ct.</td>\n",
       "      <td>Brookhill Dr</td>\n",
       "      <td>...</td>\n",
       "      <td>False</td>\n",
       "      <td>False</td>\n",
       "      <td>False</td>\n",
       "      <td>False</td>\n",
       "      <td>False</td>\n",
       "      <td>False</td>\n",
       "      <td>Day</td>\n",
       "      <td>Day</td>\n",
       "      <td>Day</td>\n",
       "      <td>Day</td>\n",
       "    </tr>\n",
       "    <tr>\n",
       "      <th>...</th>\n",
       "      <td>...</td>\n",
       "      <td>...</td>\n",
       "      <td>...</td>\n",
       "      <td>...</td>\n",
       "      <td>...</td>\n",
       "      <td>...</td>\n",
       "      <td>...</td>\n",
       "      <td>...</td>\n",
       "      <td>...</td>\n",
       "      <td>...</td>\n",
       "      <td>...</td>\n",
       "      <td>...</td>\n",
       "      <td>...</td>\n",
       "      <td>...</td>\n",
       "      <td>...</td>\n",
       "      <td>...</td>\n",
       "      <td>...</td>\n",
       "      <td>...</td>\n",
       "      <td>...</td>\n",
       "      <td>...</td>\n",
       "      <td>...</td>\n",
       "    </tr>\n",
       "    <tr>\n",
       "      <th>7728389</th>\n",
       "      <td>A-7777757</td>\n",
       "      <td>Source1</td>\n",
       "      <td>2</td>\n",
       "      <td>2019-08-23 18:03:25</td>\n",
       "      <td>2019-08-23 18:32:01</td>\n",
       "      <td>34.002480</td>\n",
       "      <td>-117.379360</td>\n",
       "      <td>0.543</td>\n",
       "      <td>At Market St - Accident.</td>\n",
       "      <td>Pomona Fwy E</td>\n",
       "      <td>...</td>\n",
       "      <td>False</td>\n",
       "      <td>False</td>\n",
       "      <td>False</td>\n",
       "      <td>False</td>\n",
       "      <td>False</td>\n",
       "      <td>False</td>\n",
       "      <td>Day</td>\n",
       "      <td>Day</td>\n",
       "      <td>Day</td>\n",
       "      <td>Day</td>\n",
       "    </tr>\n",
       "    <tr>\n",
       "      <th>7728390</th>\n",
       "      <td>A-7777758</td>\n",
       "      <td>Source1</td>\n",
       "      <td>2</td>\n",
       "      <td>2019-08-23 19:11:30</td>\n",
       "      <td>2019-08-23 19:38:23</td>\n",
       "      <td>32.766960</td>\n",
       "      <td>-117.148060</td>\n",
       "      <td>0.338</td>\n",
       "      <td>At Camino Del Rio/Mission Center Rd - Accident.</td>\n",
       "      <td>I-8 W</td>\n",
       "      <td>...</td>\n",
       "      <td>False</td>\n",
       "      <td>False</td>\n",
       "      <td>False</td>\n",
       "      <td>False</td>\n",
       "      <td>False</td>\n",
       "      <td>False</td>\n",
       "      <td>Day</td>\n",
       "      <td>Day</td>\n",
       "      <td>Day</td>\n",
       "      <td>Day</td>\n",
       "    </tr>\n",
       "    <tr>\n",
       "      <th>7728391</th>\n",
       "      <td>A-7777759</td>\n",
       "      <td>Source1</td>\n",
       "      <td>2</td>\n",
       "      <td>2019-08-23 19:00:21</td>\n",
       "      <td>2019-08-23 19:28:49</td>\n",
       "      <td>33.775450</td>\n",
       "      <td>-117.847790</td>\n",
       "      <td>0.561</td>\n",
       "      <td>At Glassell St/Grand Ave - Accident. in the ri...</td>\n",
       "      <td>Garden Grove Fwy</td>\n",
       "      <td>...</td>\n",
       "      <td>False</td>\n",
       "      <td>False</td>\n",
       "      <td>False</td>\n",
       "      <td>False</td>\n",
       "      <td>False</td>\n",
       "      <td>False</td>\n",
       "      <td>Day</td>\n",
       "      <td>Day</td>\n",
       "      <td>Day</td>\n",
       "      <td>Day</td>\n",
       "    </tr>\n",
       "    <tr>\n",
       "      <th>7728392</th>\n",
       "      <td>A-7777760</td>\n",
       "      <td>Source1</td>\n",
       "      <td>2</td>\n",
       "      <td>2019-08-23 19:00:21</td>\n",
       "      <td>2019-08-23 19:29:42</td>\n",
       "      <td>33.992460</td>\n",
       "      <td>-118.403020</td>\n",
       "      <td>0.772</td>\n",
       "      <td>At CA-90/Marina Fwy/Jefferson Blvd - Accident.</td>\n",
       "      <td>San Diego Fwy S</td>\n",
       "      <td>...</td>\n",
       "      <td>False</td>\n",
       "      <td>False</td>\n",
       "      <td>False</td>\n",
       "      <td>False</td>\n",
       "      <td>False</td>\n",
       "      <td>False</td>\n",
       "      <td>Day</td>\n",
       "      <td>Day</td>\n",
       "      <td>Day</td>\n",
       "      <td>Day</td>\n",
       "    </tr>\n",
       "    <tr>\n",
       "      <th>7728393</th>\n",
       "      <td>A-7777761</td>\n",
       "      <td>Source1</td>\n",
       "      <td>2</td>\n",
       "      <td>2019-08-23 18:52:06</td>\n",
       "      <td>2019-08-23 19:21:31</td>\n",
       "      <td>34.133930</td>\n",
       "      <td>-117.230920</td>\n",
       "      <td>0.537</td>\n",
       "      <td>At Highland Ave/Arden Ave - Accident.</td>\n",
       "      <td>CA-210 W</td>\n",
       "      <td>...</td>\n",
       "      <td>False</td>\n",
       "      <td>False</td>\n",
       "      <td>False</td>\n",
       "      <td>False</td>\n",
       "      <td>False</td>\n",
       "      <td>False</td>\n",
       "      <td>Day</td>\n",
       "      <td>Day</td>\n",
       "      <td>Day</td>\n",
       "      <td>Day</td>\n",
       "    </tr>\n",
       "  </tbody>\n",
       "</table>\n",
       "<p>5208006 rows × 44 columns</p>\n",
       "</div>"
      ],
      "text/plain": [
       "                ID   Source  Severity           Start_Time  \\\n",
       "5              A-6  Source2         3  2016-02-08 07:44:26   \n",
       "9             A-10  Source2         3  2016-02-08 08:10:04   \n",
       "11            A-12  Source2         3  2016-02-08 08:21:27   \n",
       "14            A-15  Source2         2  2016-02-08 08:39:43   \n",
       "20            A-21  Source2         2  2016-02-08 10:11:15   \n",
       "...            ...      ...       ...                  ...   \n",
       "7728389  A-7777757  Source1         2  2019-08-23 18:03:25   \n",
       "7728390  A-7777758  Source1         2  2019-08-23 19:11:30   \n",
       "7728391  A-7777759  Source1         2  2019-08-23 19:00:21   \n",
       "7728392  A-7777760  Source1         2  2019-08-23 19:00:21   \n",
       "7728393  A-7777761  Source1         2  2019-08-23 18:52:06   \n",
       "\n",
       "                    End_Time  Start_Lat   Start_Lng  Distance(mi)  \\\n",
       "5        2016-02-08 08:14:26  40.100590  -82.925194         0.010   \n",
       "9        2016-02-08 08:40:04  40.100590  -82.925194         0.010   \n",
       "11       2016-02-08 08:51:27  39.932709  -82.830910         0.010   \n",
       "14       2016-02-08 09:09:43  39.972038  -82.913521         0.010   \n",
       "20       2016-02-08 10:41:15  40.052509  -82.882332         0.000   \n",
       "...                      ...        ...         ...           ...   \n",
       "7728389  2019-08-23 18:32:01  34.002480 -117.379360         0.543   \n",
       "7728390  2019-08-23 19:38:23  32.766960 -117.148060         0.338   \n",
       "7728391  2019-08-23 19:28:49  33.775450 -117.847790         0.561   \n",
       "7728392  2019-08-23 19:29:42  33.992460 -118.403020         0.772   \n",
       "7728393  2019-08-23 19:21:31  34.133930 -117.230920         0.537   \n",
       "\n",
       "                                               Description            Street  \\\n",
       "5        Accident on I-270 Outerbelt Northbound near Ex...    Westerville Rd   \n",
       "9        Right hand shoulder blocked due to accident on...    Westerville Rd   \n",
       "11       One lane blocked due to accident on I-70 Westb...            I-70 E   \n",
       "14       Accident on OH-16 Broad St at James Rd. Expect...        E Broad St   \n",
       "20               Accident on Brookhill Dr at Glenhurst Ct.      Brookhill Dr   \n",
       "...                                                    ...               ...   \n",
       "7728389                           At Market St - Accident.      Pomona Fwy E   \n",
       "7728390    At Camino Del Rio/Mission Center Rd - Accident.             I-8 W   \n",
       "7728391  At Glassell St/Grand Ave - Accident. in the ri...  Garden Grove Fwy   \n",
       "7728392     At CA-90/Marina Fwy/Jefferson Blvd - Accident.   San Diego Fwy S   \n",
       "7728393              At Highland Ave/Arden Ave - Accident.          CA-210 W   \n",
       "\n",
       "         ... Roundabout Station   Stop Traffic_Calming Traffic_Signal  \\\n",
       "5        ...      False   False  False           False          False   \n",
       "9        ...      False   False  False           False          False   \n",
       "11       ...      False   False  False           False          False   \n",
       "14       ...      False   False  False           False           True   \n",
       "20       ...      False   False  False           False          False   \n",
       "...      ...        ...     ...    ...             ...            ...   \n",
       "7728389  ...      False   False  False           False          False   \n",
       "7728390  ...      False   False  False           False          False   \n",
       "7728391  ...      False   False  False           False          False   \n",
       "7728392  ...      False   False  False           False          False   \n",
       "7728393  ...      False   False  False           False          False   \n",
       "\n",
       "        Turning_Loop Sunrise_Sunset Civil_Twilight  Nautical_Twilight  \\\n",
       "5              False            Day            Day                Day   \n",
       "9              False            Day            Day                Day   \n",
       "11             False            Day            Day                Day   \n",
       "14             False            Day            Day                Day   \n",
       "20             False            Day            Day                Day   \n",
       "...              ...            ...            ...                ...   \n",
       "7728389        False            Day            Day                Day   \n",
       "7728390        False            Day            Day                Day   \n",
       "7728391        False            Day            Day                Day   \n",
       "7728392        False            Day            Day                Day   \n",
       "7728393        False            Day            Day                Day   \n",
       "\n",
       "         Astronomical_Twilight  \n",
       "5                          Day  \n",
       "9                          Day  \n",
       "11                         Day  \n",
       "14                         Day  \n",
       "20                         Day  \n",
       "...                        ...  \n",
       "7728389                    Day  \n",
       "7728390                    Day  \n",
       "7728391                    Day  \n",
       "7728392                    Day  \n",
       "7728393                    Day  \n",
       "\n",
       "[5208006 rows x 44 columns]"
      ]
     },
     "execution_count": 42,
     "metadata": {},
     "output_type": "execute_result"
    }
   ],
   "source": [
    "data_refined = data2.dropna(how='any', subset=['Precipitation(in)', 'Wind_Chill(F)', 'Wind_Speed(mph)', 'Visibility(mi)', 'Wind_Direction', 'Humidity(%)', 'Weather_Condition', 'Temperature(F)', 'Pressure(in)', 'Sunrise_Sunset', 'Street', 'City'])\n",
    "data_refined"
   ]
  },
  {
   "cell_type": "markdown",
   "id": "fea22412",
   "metadata": {},
   "source": [
    "## Explanatory Analysis and Visualisation"
   ]
  },
  {
   "cell_type": "markdown",
   "id": "0b59df2a",
   "metadata": {},
   "source": [
    "### City Analysis"
   ]
  },
  {
   "cell_type": "code",
   "execution_count": 39,
   "id": "83951317",
   "metadata": {},
   "outputs": [
    {
     "data": {
      "text/plain": [
       "<pandas.core.groupby.generic.DataFrameGroupBy object at 0x0000019F61BEC760>"
      ]
     },
     "execution_count": 39,
     "metadata": {},
     "output_type": "execute_result"
    }
   ],
   "source": [
    "cities = data.groupby('City')\n",
    "cities"
   ]
  },
  {
   "cell_type": "code",
   "execution_count": 71,
   "id": "cd7d126b",
   "metadata": {},
   "outputs": [
    {
     "data": {
      "text/plain": [
       "13678"
      ]
     },
     "execution_count": 71,
     "metadata": {},
     "output_type": "execute_result"
    }
   ],
   "source": [
    "len(cities)"
   ]
  },
  {
   "cell_type": "code",
   "execution_count": 51,
   "id": "3e13358d",
   "metadata": {},
   "outputs": [
    {
     "data": {
      "text/plain": [
       "City\n",
       "Miami          186917\n",
       "Houston        169609\n",
       "Los Angeles    156491\n",
       "Charlotte      138652\n",
       "Dallas         130939\n",
       "                ...  \n",
       "Gracemont           1\n",
       "Section             1\n",
       "Selby               1\n",
       "Brussels            1\n",
       "Elk Rapids          1\n",
       "Name: ID, Length: 13678, dtype: int64"
      ]
     },
     "execution_count": 51,
     "metadata": {},
     "output_type": "execute_result"
    }
   ],
   "source": [
    "cities_by_accident = cities['ID'].count().sort_values(ascending=False)\n",
    "cities_by_accident"
   ]
  },
  {
   "cell_type": "code",
   "execution_count": 59,
   "id": "02612dad",
   "metadata": {},
   "outputs": [
    {
     "data": {
      "text/plain": [
       "<Axes: xlabel='City'>"
      ]
     },
     "execution_count": 59,
     "metadata": {},
     "output_type": "execute_result"
    },
    {
     "data": {
      "image/png": "[encoded data removed]",
      "text/plain": [
       "<Figure size 1500x1000 with 1 Axes>"
      ]
     },
     "metadata": {},
     "output_type": "display_data"
    }
   ],
   "source": [
    "plt.figure(figsize=(15,10))\n",
    "cities_by_accident[:50].plot(kind='bar')"
   ]
  },
  {
   "cell_type": "code",
   "execution_count": 62,
   "id": "4cc5a76b",
   "metadata": {},
   "outputs": [
    {
     "data": {
      "text/plain": [
       "<seaborn.axisgrid.FacetGrid at 0x1a05b65fbb0>"
      ]
     },
     "execution_count": 62,
     "metadata": {},
     "output_type": "execute_result"
    },
    {
     "data": {
      "image/png": "[encoded data removed]",
      "text/plain": [
       "<Figure size 500x500 with 1 Axes>"
      ]
     },
     "metadata": {},
     "output_type": "display_data"
    }
   ],
   "source": [
    "sns.displot(cities_by_accident, kind='kde')"
   ]
  },
  {
   "cell_type": "code",
   "execution_count": 66,
   "id": "1b951ab4",
   "metadata": {},
   "outputs": [],
   "source": [
    "high_accident_cities = cities_by_accident[cities_by_accident>=10000]\n",
    "medium_accident_cities = cities_by_accident[(cities_by_accident<10000) & (cities_by_accident>=1000)]\n",
    "low_accident_cities = cities_by_accident[cities_by_accident<1000]"
   ]
  },
  {
   "cell_type": "code",
   "execution_count": 73,
   "id": "27da0aec",
   "metadata": {},
   "outputs": [
    {
     "data": {
      "text/plain": [
       "105"
      ]
     },
     "execution_count": 73,
     "metadata": {},
     "output_type": "execute_result"
    }
   ],
   "source": [
    "len(high_accident_cities)"
   ]
  },
  {
   "cell_type": "code",
   "execution_count": 68,
   "id": "cbbaeff8",
   "metadata": {},
   "outputs": [
    {
     "data": {
      "text/plain": [
       "1113"
      ]
     },
     "execution_count": 68,
     "metadata": {},
     "output_type": "execute_result"
    }
   ],
   "source": [
    "len(medium_accident_cities)"
   ]
  },
  {
   "cell_type": "code",
   "execution_count": 69,
   "id": "e4b1acd9",
   "metadata": {},
   "outputs": [
    {
     "data": {
      "text/plain": [
       "12460"
      ]
     },
     "execution_count": 69,
     "metadata": {},
     "output_type": "execute_result"
    }
   ],
   "source": [
    "len(low_accident_cities)"
   ]
  },
  {
   "cell_type": "code",
   "execution_count": 75,
   "id": "87b64261",
   "metadata": {},
   "outputs": [
    {
     "name": "stdout",
     "output_type": "stream",
     "text": [
      "0.007676560900716479\n",
      "0.08137154554759468\n",
      "0.9109518935516888\n"
     ]
    }
   ],
   "source": [
    "#Percentage of high, medium and low accident cities respectively\n",
    "print(len(high_accident_cities)/len(cities))\n",
    "print(len(medium_accident_cities)/len(cities))\n",
    "print(len(low_accident_cities)/len(cities))"
   ]
  },
  {
   "cell_type": "code",
   "execution_count": 77,
   "id": "6ff858aa",
   "metadata": {},
   "outputs": [
    {
     "data": {
      "text/plain": [
       "City\n",
       "Belspring        4\n",
       "Mccammon         4\n",
       "Bogata           4\n",
       "Fishing Creek    4\n",
       "Mellen           4\n",
       "                ..\n",
       "Gracemont        1\n",
       "Section          1\n",
       "Selby            1\n",
       "Brussels         1\n",
       "Elk Rapids       1\n",
       "Name: ID, Length: 2744, dtype: int64"
      ]
     },
     "execution_count": 77,
     "metadata": {},
     "output_type": "execute_result"
    }
   ],
   "source": [
    "cities_by_accident[cities_by_accident<5]"
   ]
  },
  {
   "cell_type": "markdown",
   "id": "967e04f9",
   "metadata": {},
   "source": [
    "Insights:-\n",
    "* About 0.77% of cities have more than 10,000 accidents.\n",
    "* About 8.1% of cities have accidents between 1000 to 10,000.\n",
    "* 91% of the cities have less than 1000 accidents\n",
    "* 2744 cities have reported accidents less than 5. (Needs to be investigated)\n",
    "\n",
    "Miami is the city having maximum number of accidents."
   ]
  },
  {
   "cell_type": "markdown",
   "id": "0571a32b",
   "metadata": {},
   "source": [
    "### Severity Analysis"
   ]
  },
  {
   "cell_type": "code",
   "execution_count": 78,
   "id": "e1859de5",
   "metadata": {},
   "outputs": [],
   "source": [
    "severity = data.groupby('Severity')"
   ]
  },
  {
   "cell_type": "code",
   "execution_count": 79,
   "id": "027c8504",
   "metadata": {},
   "outputs": [
    {
     "data": {
      "text/plain": [
       "4"
      ]
     },
     "execution_count": 79,
     "metadata": {},
     "output_type": "execute_result"
    }
   ],
   "source": [
    "len(severity)"
   ]
  },
  {
   "cell_type": "code",
   "execution_count": 81,
   "id": "0d1cb2e2",
   "metadata": {},
   "outputs": [
    {
     "data": {
      "text/plain": [
       "Severity\n",
       "1      67366\n",
       "2    6156981\n",
       "3    1299337\n",
       "4     204710\n",
       "Name: ID, dtype: int64"
      ]
     },
     "execution_count": 81,
     "metadata": {},
     "output_type": "execute_result"
    }
   ],
   "source": [
    "severity_by_accident = severity['ID'].count()\n",
    "severity_by_accident"
   ]
  },
  {
   "cell_type": "code",
   "execution_count": 90,
   "id": "9fe9c92f",
   "metadata": {},
   "outputs": [
    {
     "data": {
      "image/png": "[encoded data removed]",
      "text/plain": [
       "<Figure size 640x480 with 1 Axes>"
      ]
     },
     "metadata": {},
     "output_type": "display_data"
    }
   ],
   "source": [
    "plt.pie(severity_by_accident, autopct='%0.2f%%', labels=severity_by_accident.index)\n",
    "plt.legend()\n",
    "plt.show()"
   ]
  },
  {
   "cell_type": "markdown",
   "id": "afb69b43",
   "metadata": {},
   "source": [
    "### Temperature Analysis"
   ]
  },
  {
   "cell_type": "code",
   "execution_count": 119,
   "id": "7ccca6c9",
   "metadata": {},
   "outputs": [],
   "source": [
    "temp = data_refined.groupby('Temperature(F)')"
   ]
  },
  {
   "cell_type": "code",
   "execution_count": 120,
   "id": "5c749c80",
   "metadata": {},
   "outputs": [
    {
     "data": {
      "text/plain": [
       "378"
      ]
     },
     "execution_count": 120,
     "metadata": {},
     "output_type": "execute_result"
    }
   ],
   "source": [
    "len(temp)"
   ]
  },
  {
   "cell_type": "code",
   "execution_count": 121,
   "id": "d8a6ee9c",
   "metadata": {},
   "outputs": [
    {
     "data": {
      "text/plain": [
       "Temperature(F)\n",
       " 73.0    126867\n",
       " 72.0    118590\n",
       " 75.0    116982\n",
       " 77.0    116593\n",
       " 70.0    114254\n",
       "          ...  \n",
       " 6.4          1\n",
       " 6.3          1\n",
       " 5.9          1\n",
       " 5.4          1\n",
       "-45.0         1\n",
       "Name: ID, Length: 378, dtype: int64"
      ]
     },
     "execution_count": 121,
     "metadata": {},
     "output_type": "execute_result"
    }
   ],
   "source": [
    "temp_accident = temp['ID'].count().sort_values(ascending=False)\n",
    "temp_accident"
   ]
  },
  {
   "cell_type": "code",
   "execution_count": 118,
   "id": "b930aa67",
   "metadata": {},
   "outputs": [
    {
     "data": {
      "text/plain": [
       "<Axes: xlabel='Temperature(F)', ylabel='Count'>"
      ]
     },
     "execution_count": 118,
     "metadata": {},
     "output_type": "execute_result"
    },
    {
     "data": {
      "image/png": "[encoded data removed]",
      "text/plain": [
       "<Figure size 1000x600 with 1 Axes>"
      ]
     },
     "metadata": {},
     "output_type": "display_data"
    }
   ],
   "source": [
    "fig, ax = plt.subplots(figsize=(10, 6))\n",
    "sns.histplot(data_refined['Temperature(F)'])"
   ]
  },
  {
   "cell_type": "markdown",
   "id": "0b44c218",
   "metadata": {},
   "source": [
    "### Humidity Analysis"
   ]
  },
  {
   "cell_type": "code",
   "execution_count": 116,
   "id": "8d5bf5d9",
   "metadata": {},
   "outputs": [],
   "source": [
    "humidity = data_refined.groupby('Humidity(%)')"
   ]
  },
  {
   "cell_type": "code",
   "execution_count": 117,
   "id": "0db41952",
   "metadata": {},
   "outputs": [
    {
     "data": {
      "text/plain": [
       "Humidity(%)\n",
       "93.0     204802\n",
       "100.0    178477\n",
       "90.0     117458\n",
       "87.0     117127\n",
       "89.0     106320\n",
       "          ...  \n",
       "5.0        2918\n",
       "4.0        1424\n",
       "3.0         624\n",
       "2.0         178\n",
       "1.0          45\n",
       "Name: ID, Length: 100, dtype: int64"
      ]
     },
     "execution_count": 117,
     "metadata": {},
     "output_type": "execute_result"
    }
   ],
   "source": [
    "humid_accident = humidity['ID'].count().sort_values(ascending=False)\n",
    "humid_accident"
   ]
  },
  {
   "cell_type": "code",
   "execution_count": 115,
   "id": "f890b57d",
   "metadata": {},
   "outputs": [
    {
     "data": {
      "text/plain": [
       "<Axes: xlabel='Humidity(%)', ylabel='Count'>"
      ]
     },
     "execution_count": 115,
     "metadata": {},
     "output_type": "execute_result"
    },
    {
     "data": {
      "image/png": "[encoded data removed]",
      "text/plain": [
       "<Figure size 640x480 with 1 Axes>"
      ]
     },
     "metadata": {},
     "output_type": "display_data"
    }
   ],
   "source": [
    "sns.histplot(data_refined['Humidity(%)'])"
   ]
  },
  {
   "cell_type": "markdown",
   "id": "2df06cf2",
   "metadata": {},
   "source": [
    "Insights: - \n",
    "We can infer from the graph that, as the humidity increases, accidents increases."
   ]
  },
  {
   "cell_type": "markdown",
   "id": "acb5db17",
   "metadata": {},
   "source": [
    "### Precipitation Analysis "
   ]
  },
  {
   "cell_type": "code",
   "execution_count": 122,
   "id": "ae3d9e73",
   "metadata": {},
   "outputs": [
    {
     "data": {
      "text/plain": [
       "<Axes: xlabel='Precipitation(in)', ylabel='Count'>"
      ]
     },
     "execution_count": 122,
     "metadata": {},
     "output_type": "execute_result"
    },
    {
     "data": {
      "image/png": "[encoded data removed]",
      "text/plain": [
       "<Figure size 640x480 with 1 Axes>"
      ]
     },
     "metadata": {},
     "output_type": "display_data"
    }
   ],
   "source": [
    "sns.histplot(data_refined['Precipitation(in)'])"
   ]
  },
  {
   "cell_type": "code",
   "execution_count": 123,
   "id": "905bb45b",
   "metadata": {},
   "outputs": [],
   "source": [
    "ppt = data_refined.groupby('Precipitation(in)')"
   ]
  },
  {
   "cell_type": "code",
   "execution_count": 124,
   "id": "aa6dbf43",
   "metadata": {},
   "outputs": [
    {
     "data": {
      "text/plain": [
       "Precipitation(in)\n",
       "0.00     4795473\n",
       "0.01      119028\n",
       "0.02       57740\n",
       "0.03       38971\n",
       "0.04       29127\n",
       "          ...   \n",
       "2.74           1\n",
       "2.75           1\n",
       "2.81           1\n",
       "2.85           1\n",
       "36.47          1\n",
       "Name: ID, Length: 258, dtype: int64"
      ]
     },
     "execution_count": 124,
     "metadata": {},
     "output_type": "execute_result"
    }
   ],
   "source": [
    "ppt_accident = ppt['ID'].count().sort_values(ascending=False)\n",
    "ppt_accident"
   ]
  },
  {
   "cell_type": "markdown",
   "id": "1d984469",
   "metadata": {},
   "source": [
    "Insights: - \n",
    "Rain doesn't have much impact on accidents."
   ]
  },
  {
   "cell_type": "markdown",
   "id": "1b685286",
   "metadata": {},
   "source": [
    "### Weather Condition Analysis"
   ]
  },
  {
   "cell_type": "code",
   "execution_count": 125,
   "id": "c0fbdbfa",
   "metadata": {},
   "outputs": [],
   "source": [
    "weather = data_refined.groupby('Weather_Condition')"
   ]
  },
  {
   "cell_type": "code",
   "execution_count": 127,
   "id": "9519edf1",
   "metadata": {},
   "outputs": [
    {
     "data": {
      "text/plain": [
       "Weather_Condition\n",
       "Fair                         2418180\n",
       "Cloudy                        782961\n",
       "Mostly Cloudy                 683291\n",
       "Partly Cloudy                 467441\n",
       "Light Rain                    259973\n",
       "                              ...   \n",
       "Blowing Snow Nearby                1\n",
       "Heavy Rain Shower / Windy          1\n",
       "Partial Fog / Windy                1\n",
       "Heavy Sleet / Windy                1\n",
       "Blowing Sand                       1\n",
       "Name: ID, Length: 127, dtype: int64"
      ]
     },
     "execution_count": 127,
     "metadata": {},
     "output_type": "execute_result"
    }
   ],
   "source": [
    "weather_accident = weather['ID'].count().sort_values(ascending=False)\n",
    "weather_accident"
   ]
  },
  {
   "cell_type": "code",
   "execution_count": 130,
   "id": "2f592355",
   "metadata": {},
   "outputs": [
    {
     "data": {
      "text/plain": [
       "Weather_Condition\n",
       "Fair                       2418180\n",
       "Cloudy                      782961\n",
       "Mostly Cloudy               683291\n",
       "Partly Cloudy               467441\n",
       "Light Rain                  259973\n",
       "Light Snow                  117480\n",
       "Fog                          83301\n",
       "Rain                         60503\n",
       "Haze                         46469\n",
       "Fair / Windy                 33906\n",
       "Heavy Rain                   23388\n",
       "Thunder in the Vicinity      16932\n",
       "Cloudy / Windy               16212\n",
       "Light Drizzle                16156\n",
       "Mostly Cloudy / Windy        16127\n",
       "T-Storm                      16096\n",
       "Overcast                     15465\n",
       "Snow                         13828\n",
       "Thunder                      13770\n",
       "Light Rain with Thunder      13263\n",
       "Wintry Mix                   11506\n",
       "Partly Cloudy / Windy         9950\n",
       "Heavy T-Storm                 9326\n",
       "Smoke                         8998\n",
       "Light Rain / Windy            7742\n",
       "Light Snow / Windy            6630\n",
       "Heavy Snow                    4471\n",
       "Drizzle                       3035\n",
       "Light Freezing Rain           3027\n",
       "N/A Precipitation             2869\n",
       "Rain / Windy                  2269\n",
       "Patches of Fog                2178\n",
       "Shallow Fog                   2143\n",
       "Haze / Windy                  1568\n",
       "Heavy Rain / Windy            1487\n",
       "Mist                          1425\n",
       "Snow / Windy                  1239\n",
       "Light Freezing Drizzle        1113\n",
       "Showers in the Vicinity       1107\n",
       "Heavy T-Storm / Windy         1078\n",
       "Name: ID, dtype: int64"
      ]
     },
     "execution_count": 130,
     "metadata": {},
     "output_type": "execute_result"
    }
   ],
   "source": [
    "weather_required = weather_accident[weather_accident >= 1000]\n",
    "weather_required"
   ]
  },
  {
   "cell_type": "code",
   "execution_count": 134,
   "id": "ed313c01",
   "metadata": {},
   "outputs": [
    {
     "data": {
      "text/plain": [
       "<BarContainer object of 15 artists>"
      ]
     },
     "execution_count": 134,
     "metadata": {},
     "output_type": "execute_result"
    },
    {
     "data": {
      "image/png": "[encoded data removed]",
      "text/plain": [
       "<Figure size 640x480 with 1 Axes>"
      ]
     },
     "metadata": {},
     "output_type": "display_data"
    }
   ],
   "source": [
    "plt.bar(weather_required.head(15).index, weather_required.head(15).values)"
   ]
  },
  {
   "cell_type": "markdown",
   "id": "0d44a05e",
   "metadata": {},
   "source": [
    "### Time of the day analysis "
   ]
  },
  {
   "cell_type": "code",
   "execution_count": 135,
   "id": "a3e38692",
   "metadata": {},
   "outputs": [],
   "source": [
    "day = data_refined.groupby('Sunrise_Sunset')"
   ]
  },
  {
   "cell_type": "code",
   "execution_count": 137,
   "id": "71811f4d",
   "metadata": {},
   "outputs": [
    {
     "data": {
      "text/plain": [
       "Sunrise_Sunset\n",
       "Day      3522853\n",
       "Night    1685153\n",
       "Name: ID, dtype: int64"
      ]
     },
     "execution_count": 137,
     "metadata": {},
     "output_type": "execute_result"
    }
   ],
   "source": [
    "day_accident = day['ID'].count().sort_values(ascending=False)\n",
    "day_accident"
   ]
  },
  {
   "cell_type": "code",
   "execution_count": 138,
   "id": "0e52525a",
   "metadata": {},
   "outputs": [
    {
     "data": {
      "image/png": "[encoded data removed]",
      "text/plain": [
       "<Figure size 640x480 with 1 Axes>"
      ]
     },
     "metadata": {},
     "output_type": "display_data"
    }
   ],
   "source": [
    "plt.pie(day_accident, autopct='%0.2f%%', labels=day_accident.index)\n",
    "plt.legend()\n",
    "plt.show()"
   ]
  },
  {
   "cell_type": "markdown",
   "id": "5abda211",
   "metadata": {},
   "source": [
    "### Start Time Analysis"
   ]
  },
  {
   "cell_type": "code",
   "execution_count": 139,
   "id": "78d3fcbc",
   "metadata": {},
   "outputs": [
    {
     "data": {
      "text/plain": [
       "0          2016-02-08 05:46:00\n",
       "1          2016-02-08 06:07:59\n",
       "2          2016-02-08 06:49:27\n",
       "3          2016-02-08 07:23:34\n",
       "4          2016-02-08 07:39:07\n",
       "                  ...         \n",
       "7728389    2019-08-23 18:03:25\n",
       "7728390    2019-08-23 19:11:30\n",
       "7728391    2019-08-23 19:00:21\n",
       "7728392    2019-08-23 19:00:21\n",
       "7728393    2019-08-23 18:52:06\n",
       "Name: Start_Time, Length: 7728394, dtype: object"
      ]
     },
     "execution_count": 139,
     "metadata": {},
     "output_type": "execute_result"
    }
   ],
   "source": [
    "data.Start_Time"
   ]
  },
  {
   "cell_type": "code",
   "execution_count": 142,
   "id": "322c74db",
   "metadata": {},
   "outputs": [
    {
     "data": {
      "text/plain": [
       "str"
      ]
     },
     "execution_count": 142,
     "metadata": {},
     "output_type": "execute_result"
    }
   ],
   "source": [
    "type(data.Start_Time[0])"
   ]
  },
  {
   "cell_type": "markdown",
   "id": "a99385a9",
   "metadata": {},
   "source": [
    "This is a string, we need to convert it into timestamp format."
   ]
  },
  {
   "cell_type": "code",
   "execution_count": 154,
   "id": "3e15b1bc",
   "metadata": {},
   "outputs": [
    {
     "data": {
      "text/plain": [
       "0         2016-02-08 05:46:00\n",
       "1         2016-02-08 06:07:59\n",
       "2         2016-02-08 06:49:27\n",
       "3         2016-02-08 07:23:34\n",
       "4         2016-02-08 07:39:07\n",
       "                  ...        \n",
       "7728389   2019-08-23 18:03:25\n",
       "7728390   2019-08-23 19:11:30\n",
       "7728391   2019-08-23 19:00:21\n",
       "7728392   2019-08-23 19:00:21\n",
       "7728393   2019-08-23 18:52:06\n",
       "Name: Start_Time, Length: 7728394, dtype: datetime64[ns]"
      ]
     },
     "execution_count": 154,
     "metadata": {},
     "output_type": "execute_result"
    }
   ],
   "source": [
    "datetime = pd.to_datetime(data.Start_Time)\n",
    "datetime"
   ]
  },
  {
   "cell_type": "code",
   "execution_count": 159,
   "id": "32a69522",
   "metadata": {},
   "outputs": [
    {
     "data": {
      "text/plain": [
       "Timestamp('2016-02-08 05:46:00')"
      ]
     },
     "execution_count": 159,
     "metadata": {},
     "output_type": "execute_result"
    }
   ],
   "source": [
    "datetime[0]"
   ]
  },
  {
   "cell_type": "code",
   "execution_count": 161,
   "id": "0f3defae",
   "metadata": {},
   "outputs": [
    {
     "data": {
      "text/plain": [
       "0           5\n",
       "1           6\n",
       "2           6\n",
       "3           7\n",
       "4           7\n",
       "           ..\n",
       "7728389    18\n",
       "7728390    19\n",
       "7728391    19\n",
       "7728392    19\n",
       "7728393    18\n",
       "Name: Start_Time, Length: 7728394, dtype: int64"
      ]
     },
     "execution_count": 161,
     "metadata": {},
     "output_type": "execute_result"
    }
   ],
   "source": [
    "hour_of_accident = datetime.dt.hour\n",
    "hour_of_accident"
   ]
  },
  {
   "cell_type": "code",
   "execution_count": 165,
   "id": "67244d1f",
   "metadata": {},
   "outputs": [
    {
     "data": {
      "text/plain": [
       "<Axes: xlabel='Start_Time', ylabel='Count'>"
      ]
     },
     "execution_count": 165,
     "metadata": {},
     "output_type": "execute_result"
    },
    {
     "data": {
      "image/png": "[encoded data removed]",
      "text/plain": [
       "<Figure size 640x480 with 1 Axes>"
      ]
     },
     "metadata": {},
     "output_type": "display_data"
    }
   ],
   "source": [
    "sns.histplot(hour_of_accident)"
   ]
  },
  {
   "cell_type": "code",
   "execution_count": 173,
   "id": "1c36999a",
   "metadata": {},
   "outputs": [
    {
     "data": {
      "text/plain": [
       "<pandas.core.groupby.generic.SeriesGroupBy object at 0x000001A1AF8D4310>"
      ]
     },
     "execution_count": 173,
     "metadata": {},
     "output_type": "execute_result"
    }
   ],
   "source": [
    "dt = hour_of_accident.groupby(hour_of_accident.values)\n",
    "dt"
   ]
  },
  {
   "cell_type": "code",
   "execution_count": 176,
   "id": "c015af32",
   "metadata": {},
   "outputs": [
    {
     "data": {
      "text/plain": [
       "0     112378\n",
       "1      97071\n",
       "2      93227\n",
       "3      83863\n",
       "4     159852\n",
       "5     228182\n",
       "6     405837\n",
       "7     587472\n",
       "8     577576\n",
       "9     363034\n",
       "10    342706\n",
       "11    355040\n",
       "12    355001\n",
       "13    396445\n",
       "14    448846\n",
       "15    525855\n",
       "16    581969\n",
       "17    576015\n",
       "18    432042\n",
       "19    295121\n",
       "20    225226\n",
       "21    191452\n",
       "22    167645\n",
       "23    126539\n",
       "Name: Start_Time, dtype: int64"
      ]
     },
     "execution_count": 176,
     "metadata": {},
     "output_type": "execute_result"
    }
   ],
   "source": [
    "hours = dt.size()\n",
    "hours"
   ]
  },
  {
   "cell_type": "code",
   "execution_count": 180,
   "id": "82b7ec6d",
   "metadata": {},
   "outputs": [
    {
     "data": {
      "text/plain": [
       "[<matplotlib.lines.Line2D at 0x1a1b0064c40>]"
      ]
     },
     "execution_count": 180,
     "metadata": {},
     "output_type": "execute_result"
    },
    {
     "data": {
      "image/png": "[encoded data removed]",
      "text/plain": [
       "<Figure size 640x480 with 1 Axes>"
      ]
     },
     "metadata": {},
     "output_type": "display_data"
    }
   ],
   "source": [
    "plt.plot(hours.index, hours.values)"
   ]
  },
  {
   "cell_type": "markdown",
   "id": "0689611c",
   "metadata": {},
   "source": [
    "Insights: - \n",
    "- A high percentage of accidents occur between 6 am to 10 am (probably because people are in a hurry during that time to get to work.)\n",
    "- Also a high percentage of accidents occur between 2 pm to 6 pm."
   ]
  },
  {
   "cell_type": "code",
   "execution_count": 185,
   "id": "0e2f5041",
   "metadata": {},
   "outputs": [
    {
     "data": {
      "text/plain": [
       "0          0\n",
       "1          0\n",
       "2          0\n",
       "3          0\n",
       "4          0\n",
       "          ..\n",
       "7728389    4\n",
       "7728390    4\n",
       "7728391    4\n",
       "7728392    4\n",
       "7728393    4\n",
       "Name: Start_Time, Length: 7728394, dtype: int64"
      ]
     },
     "execution_count": 185,
     "metadata": {},
     "output_type": "execute_result"
    }
   ],
   "source": [
    "day_of_accident = datetime.dt.dayofweek\n",
    "day_of_accident"
   ]
  },
  {
   "cell_type": "code",
   "execution_count": 189,
   "id": "fd8543ac",
   "metadata": {},
   "outputs": [
    {
     "data": {
      "text/plain": [
       "<Axes: xlabel='Start_Time', ylabel='Count'>"
      ]
     },
     "execution_count": 189,
     "metadata": {},
     "output_type": "execute_result"
    },
    {
     "data": {
      "image/png": "[encoded data removed]",
      "text/plain": [
       "<Figure size 640x480 with 1 Axes>"
      ]
     },
     "metadata": {},
     "output_type": "display_data"
    }
   ],
   "source": [
    "plt.xticks(range(7), ['Monday', 'Tuesday', 'Wednesday', 'Thursday', 'Friday', 'Saturday', 'Sunday'])\n",
    "sns.histplot(day_of_accident)"
   ]
  },
  {
   "cell_type": "markdown",
   "id": "42b1f0f4",
   "metadata": {},
   "source": [
    "Insights: - \n",
    "On weekends, the number of accidents is less."
   ]
  },
  {
   "cell_type": "code",
   "execution_count": 196,
   "id": "4e59438f",
   "metadata": {},
   "outputs": [
    {
     "data": {
      "text/plain": [
       "129       2016-02-13 11:05:00\n",
       "130       2016-02-13 11:05:21\n",
       "131       2016-02-13 11:17:01\n",
       "132       2016-02-13 11:25:42\n",
       "133       2016-02-13 12:56:31\n",
       "                  ...        \n",
       "7726137   2019-08-18 23:24:10\n",
       "7726177   2019-08-17 03:36:35\n",
       "7726252   2019-08-18 22:56:56\n",
       "7726253   2019-08-18 22:56:56\n",
       "7726292   2019-08-18 22:54:41\n",
       "Name: Start_Time, Length: 1231427, dtype: datetime64[ns]"
      ]
     },
     "execution_count": 196,
     "metadata": {},
     "output_type": "execute_result"
    }
   ],
   "source": [
    "weekend_start_time = datetime[(day_of_accident == 5) | (day_of_accident == 6)]\n",
    "weekend_start_time"
   ]
  },
  {
   "cell_type": "code",
   "execution_count": 197,
   "id": "56dd6bfd",
   "metadata": {},
   "outputs": [
    {
     "data": {
      "text/plain": [
       "<Axes: xlabel='Start_Time', ylabel='Count'>"
      ]
     },
     "execution_count": 197,
     "metadata": {},
     "output_type": "execute_result"
    },
    {
     "data": {
      "image/png": "[encoded data removed]",
      "text/plain": [
       "<Figure size 640x480 with 1 Axes>"
      ]
     },
     "metadata": {},
     "output_type": "display_data"
    }
   ],
   "source": [
    "sns.histplot(weekend_start_time.dt.hour)"
   ]
  },
  {
   "cell_type": "code",
   "execution_count": 199,
   "id": "066fc480",
   "metadata": {},
   "outputs": [
    {
     "data": {
      "text/plain": [
       "0         2016-02-08 05:46:00\n",
       "1         2016-02-08 06:07:59\n",
       "2         2016-02-08 06:49:27\n",
       "3         2016-02-08 07:23:34\n",
       "4         2016-02-08 07:39:07\n",
       "                  ...        \n",
       "7728389   2019-08-23 18:03:25\n",
       "7728390   2019-08-23 19:11:30\n",
       "7728391   2019-08-23 19:00:21\n",
       "7728392   2019-08-23 19:00:21\n",
       "7728393   2019-08-23 18:52:06\n",
       "Name: Start_Time, Length: 6496967, dtype: datetime64[ns]"
      ]
     },
     "execution_count": 199,
     "metadata": {},
     "output_type": "execute_result"
    }
   ],
   "source": [
    "weekdays_start_time = datetime[day_of_accident.isin([0, 1, 2, 3, 4])]\n",
    "weekdays_start_time"
   ]
  },
  {
   "cell_type": "code",
   "execution_count": 200,
   "id": "6c2f7481",
   "metadata": {},
   "outputs": [
    {
     "data": {
      "text/plain": [
       "<Axes: xlabel='Start_Time', ylabel='Count'>"
      ]
     },
     "execution_count": 200,
     "metadata": {},
     "output_type": "execute_result"
    },
    {
     "data": {
      "image/png": "[encoded data removed]",
      "text/plain": [
       "<Figure size 640x480 with 1 Axes>"
      ]
     },
     "metadata": {},
     "output_type": "display_data"
    }
   ],
   "source": [
    "sns.histplot(weekdays_start_time.dt.hour)"
   ]
  },
  {
   "cell_type": "markdown",
   "id": "70953097",
   "metadata": {},
   "source": [
    "Insights: - \n",
    "- During weekends, most accidents occur during afternoon\n",
    "- During weekdays, most accidents occur during morning or evening."
   ]
  },
  {
   "cell_type": "code",
   "execution_count": null,
   "id": "618c054d",
   "metadata": {},
   "outputs": [],
   "source": []
  }
 ],
 "metadata": {
  "kernelspec": {
   "display_name": "Python 3 (ipykernel)",
   "language": "python",
   "name": "python3"
  },
  "language_info": {
   "codemirror_mode": {
    "name": "ipython",
    "version": 3
   },
   "file_extension": ".py",
   "mimetype": "text/x-python",
   "name": "python",
   "nbconvert_exporter": "python",
   "pygments_lexer": "ipython3",
   "version": "3.10.9"
  }
 },
 "nbformat": 4,
 "nbformat_minor": 5
}
